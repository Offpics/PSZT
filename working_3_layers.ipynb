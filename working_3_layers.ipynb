{
 "cells": [
  {
   "cell_type": "code",
   "execution_count": 1,
   "metadata": {},
   "outputs": [],
   "source": [
    "from pszt import net\n",
    "import numpy as np"
   ]
  },
  {
   "cell_type": "code",
   "execution_count": 2,
   "metadata": {},
   "outputs": [],
   "source": [
    "mlp = net.MLP()"
   ]
  },
  {
   "cell_type": "code",
   "execution_count": 3,
   "metadata": {},
   "outputs": [],
   "source": [
    "mlp.print_layers()"
   ]
  },
  {
   "cell_type": "code",
   "execution_count": 4,
   "metadata": {},
   "outputs": [
    {
     "name": "stdout",
     "output_type": "stream",
     "text": [
      "x_train.shape: (3804, 8257), y_train.shape: (3804, 3)\n"
     ]
    }
   ],
   "source": [
    "x_train = np.load('x_train_no_ignore_no_norm.npy')\n",
    "y_train = np.load('y_train_no_ignore_no_norm.npy')\n",
    "print(f'x_train.shape: {x_train.shape}, y_train.shape: {y_train.shape}')"
   ]
  },
  {
   "cell_type": "code",
   "execution_count": null,
   "metadata": {
    "scrolled": true
   },
   "outputs": [
    {
     "name": "stdout",
     "output_type": "stream",
     "text": [
      "1. Layer - input_dim: 8257, output_dim: 50, activation: relu\n"
     ]
    }
   ],
   "source": [
    "mlp.add_layer(input_dim=x_train.shape[1], output_dim=50, activation=\"relu\")\n",
    "mlp.print_layers()"
   ]
  },
  {
   "cell_type": "code",
   "execution_count": null,
   "metadata": {},
   "outputs": [
    {
     "name": "stdout",
     "output_type": "stream",
     "text": [
      "1. Layer - input_dim: 8257, output_dim: 50, activation: relu\n",
      "2. Layer - input_dim: 50, output_dim: 3, activation: softmax\n"
     ]
    }
   ],
   "source": [
    "mlp.add_layer(input_dim=50, output_dim=3, activation=\"softmax\")\n",
    "mlp.print_layers()"
   ]
  },
  {
   "cell_type": "code",
   "execution_count": null,
   "metadata": {},
   "outputs": [],
   "source": [
    "mlp.init_layers()"
   ]
  },
  {
   "cell_type": "code",
   "execution_count": null,
   "metadata": {},
   "outputs": [
    {
     "name": "stdout",
     "output_type": "stream",
     "text": [
      "Epoch: 1, loss: 3606.49, accuracy: 56.8%\n",
      "Epoch: 2, loss: 3510.99, accuracy: 56.8%\n",
      "Epoch: 3, loss: 3377.42, accuracy: 56.8%\n",
      "Epoch: 4, loss: 3227.19, accuracy: 56.8%\n",
      "Epoch: 5, loss: 3116.32, accuracy: 67.7%\n",
      "Epoch: 6, loss: 3037.09, accuracy: 68.9%\n",
      "Epoch: 7, loss: 2972.88, accuracy: 69.1%\n",
      "Epoch: 8, loss: 2913.23, accuracy: 70.0%\n",
      "Epoch: 9, loss: 2854.16, accuracy: 71.7%\n",
      "Epoch: 10, loss: 2795.33, accuracy: 72.6%\n",
      "Epoch: 11, loss: 2736.25, accuracy: 73.1%\n",
      "Epoch: 12, loss: 2677.11, accuracy: 73.7%\n",
      "Epoch: 13, loss: 2618.72, accuracy: 74.2%\n",
      "Epoch: 14, loss: 2558.89, accuracy: 74.9%\n",
      "Epoch: 15, loss: 2499.83, accuracy: 75.7%\n",
      "Epoch: 16, loss: 2441.94, accuracy: 76.3%\n",
      "Epoch: 17, loss: 2380.81, accuracy: 77.0%\n",
      "Epoch: 18, loss: 2329.97, accuracy: 77.4%\n",
      "Epoch: 19, loss: 2254.66, accuracy: 77.8%\n",
      "Epoch: 20, loss: 2229.53, accuracy: 78.2%\n",
      "Epoch: 21, loss: 2156.73, accuracy: 78.9%\n",
      "Epoch: 22, loss: 2082.12, accuracy: 79.4%\n",
      "Epoch: 23, loss: 2010.98, accuracy: 80.5%\n",
      "Epoch: 24, loss: 1939.25, accuracy: 80.8%\n",
      "Epoch: 25, loss: 1870.32, accuracy: 81.6%\n",
      "Epoch: 26, loss: 1798.33, accuracy: 82.2%\n",
      "Epoch: 27, loss: 1749.08, accuracy: 83.6%\n",
      "Epoch: 28, loss: 1670.61, accuracy: 84.2%\n",
      "Epoch: 29, loss: 1821.24, accuracy: 83.6%\n",
      "Epoch: 30, loss: 1776.59, accuracy: 83.8%\n",
      "Epoch: 31, loss: 1618.00, accuracy: 85.8%\n",
      "Epoch: 32, loss: 1527.76, accuracy: 86.9%\n",
      "Epoch: 33, loss: 1430.89, accuracy: 87.1%\n",
      "Epoch: 34, loss: 1372.59, accuracy: 87.9%\n",
      "Epoch: 35, loss: 1325.81, accuracy: 87.9%\n",
      "Epoch: 36, loss: 1344.77, accuracy: 89.2%\n",
      "Epoch: 37, loss: 1682.07, accuracy: 85.9%\n",
      "Epoch: 38, loss: 1387.85, accuracy: 89.1%\n",
      "Epoch: 39, loss: 1263.10, accuracy: 90.0%\n",
      "Epoch: 40, loss: 1308.15, accuracy: 89.6%\n",
      "Epoch: 41, loss: 1157.46, accuracy: 91.4%\n",
      "Epoch: 42, loss: 1736.84, accuracy: 84.2%\n",
      "Epoch: 43, loss: 1145.73, accuracy: 89.1%\n",
      "Epoch: 44, loss: 1060.77, accuracy: 92.2%\n",
      "Epoch: 45, loss: 1113.39, accuracy: 92.3%\n",
      "Epoch: 46, loss: 970.54, accuracy: 92.6%\n",
      "Epoch: 47, loss: 1036.87, accuracy: 92.7%\n",
      "Epoch: 48, loss: 924.66, accuracy: 92.2%\n",
      "Epoch: 49, loss: 942.80, accuracy: 93.3%\n",
      "Epoch: 50, loss: 971.45, accuracy: 90.4%\n",
      "Epoch: 51, loss: 859.99, accuracy: 93.0%\n",
      "Epoch: 52, loss: 1021.58, accuracy: 89.7%\n",
      "Epoch: 53, loss: 973.50, accuracy: 92.7%\n",
      "Epoch: 54, loss: 984.69, accuracy: 92.2%\n",
      "Epoch: 55, loss: 820.39, accuracy: 92.5%\n",
      "Epoch: 56, loss: 778.95, accuracy: 94.3%\n",
      "Epoch: 57, loss: 782.16, accuracy: 93.4%\n"
     ]
    }
   ],
   "source": [
    "mlp.train(x_train, y_train, 100) "
   ]
  },
  {
   "cell_type": "code",
   "execution_count": null,
   "metadata": {},
   "outputs": [],
   "source": []
  }
 ],
 "metadata": {
  "kernelspec": {
   "display_name": "Python 3",
   "language": "python",
   "name": "python3"
  },
  "language_info": {
   "codemirror_mode": {
    "name": "ipython",
    "version": 3
   },
   "file_extension": ".py",
   "mimetype": "text/x-python",
   "name": "python",
   "nbconvert_exporter": "python",
   "pygments_lexer": "ipython3",
   "version": "3.7.2"
  }
 },
 "nbformat": 4,
 "nbformat_minor": 2
}
