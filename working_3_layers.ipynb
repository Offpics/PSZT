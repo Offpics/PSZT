{
 "cells": [
  {
   "cell_type": "code",
   "execution_count": 1,
   "metadata": {},
   "outputs": [],
   "source": [
    "from pszt import net\n",
    "import numpy as np"
   ]
  },
  {
   "cell_type": "code",
   "execution_count": 2,
   "metadata": {},
   "outputs": [],
   "source": [
    "mlp = net.MLP()"
   ]
  },
  {
   "cell_type": "code",
   "execution_count": 3,
   "metadata": {},
   "outputs": [],
   "source": [
    "mlp.print_layers()"
   ]
  },
  {
   "cell_type": "code",
   "execution_count": 4,
   "metadata": {},
   "outputs": [
    {
     "name": "stdout",
     "output_type": "stream",
     "text": [
      "x_train.shape: (3804, 8257), y_train.shape: (3804, 3)\n"
     ]
    }
   ],
   "source": [
    "x_train = np.load('x_train_no_ignore_no_norm.npy')\n",
    "y_train = np.load('y_train_no_ignore_no_norm.npy')\n",
    "print(f'x_train.shape: {x_train.shape}, y_train.shape: {y_train.shape}')"
   ]
  },
  {
   "cell_type": "code",
   "execution_count": 5,
   "metadata": {
    "scrolled": true
   },
   "outputs": [
    {
     "name": "stdout",
     "output_type": "stream",
     "text": [
      "1. Layer - input_dim: 8257, output_dim: 50, activation: relu\n"
     ]
    }
   ],
   "source": [
    "mlp.add_layer(input_dim=x_train.shape[1], output_dim=50, activation=\"relu\")\n",
    "mlp.print_layers()"
   ]
  },
  {
   "cell_type": "code",
   "execution_count": 6,
   "metadata": {},
   "outputs": [
    {
     "name": "stdout",
     "output_type": "stream",
     "text": [
      "1. Layer - input_dim: 8257, output_dim: 50, activation: relu\n",
      "2. Layer - input_dim: 50, output_dim: 3, activation: softmax\n"
     ]
    }
   ],
   "source": [
    "mlp.add_layer(input_dim=50, output_dim=3, activation=\"softmax\")\n",
    "mlp.print_layers()"
   ]
  },
  {
   "cell_type": "code",
   "execution_count": 7,
   "metadata": {},
   "outputs": [],
   "source": [
    "mlp.init_layers()"
   ]
  },
  {
   "cell_type": "code",
   "execution_count": 8,
   "metadata": {},
   "outputs": [
    {
     "name": "stdout",
     "output_type": "stream",
     "text": [
      "Epoch: 10, loss: 3930.64, accuracy: 56.8%\n",
      "Epoch: 20, loss: 3115.33, accuracy: 67.6%\n",
      "Epoch: 30, loss: 3532.99, accuracy: 56.8%\n",
      "Epoch: 40, loss: 3633.20, accuracy: 56.8%\n",
      "Epoch: 50, loss: 3770.51, accuracy: 56.9%\n",
      "Epoch: 60, loss: 3538.29, accuracy: 56.8%\n",
      "Epoch: 70, loss: 4342.49, accuracy: 56.8%\n",
      "Epoch: 80, loss: 3532.62, accuracy: 56.9%\n",
      "Epoch: 90, loss: 3308.09, accuracy: 64.0%\n",
      "Epoch: 100, loss: 2948.29, accuracy: 69.9%\n"
     ]
    }
   ],
   "source": [
    "mlp.train(x_train, y_train, 100) "
   ]
  },
  {
   "cell_type": "code",
   "execution_count": 8,
   "metadata": {},
   "outputs": [],
   "source": [
    "mlp.init_layers()"
   ]
  },
  {
   "cell_type": "code",
   "execution_count": 9,
   "metadata": {},
   "outputs": [
    {
     "name": "stdout",
     "output_type": "stream",
     "text": [
      "Epoch: 1, loss: 3605.18, accuracy: 56.8%\n",
      "Epoch: 2, loss: 3480.85, accuracy: 56.8%\n",
      "Epoch: 3, loss: 3321.09, accuracy: 56.8%\n",
      "Epoch: 4, loss: 3180.32, accuracy: 56.8%\n",
      "Epoch: 5, loss: 3080.14, accuracy: 69.4%\n",
      "Epoch: 6, loss: 3005.36, accuracy: 69.4%\n",
      "Epoch: 7, loss: 2941.38, accuracy: 70.0%\n",
      "Epoch: 8, loss: 2880.18, accuracy: 71.3%\n",
      "Epoch: 9, loss: 2819.89, accuracy: 72.4%\n",
      "Epoch: 10, loss: 2758.92, accuracy: 73.1%\n",
      "Epoch: 11, loss: 2697.14, accuracy: 73.6%\n",
      "Epoch: 12, loss: 2634.42, accuracy: 74.4%\n",
      "Epoch: 13, loss: 2570.86, accuracy: 74.8%\n",
      "Epoch: 14, loss: 2506.36, accuracy: 75.6%\n",
      "Epoch: 15, loss: 2442.57, accuracy: 76.5%\n",
      "Epoch: 16, loss: 2379.61, accuracy: 76.9%\n",
      "Epoch: 17, loss: 2317.79, accuracy: 77.5%\n",
      "Epoch: 18, loss: 2257.04, accuracy: 78.0%\n",
      "Epoch: 19, loss: 2197.21, accuracy: 78.5%\n",
      "Epoch: 20, loss: 2138.35, accuracy: 78.7%\n"
     ]
    }
   ],
   "source": [
    "mlp.train_batch(x_train, y_train, 20)"
   ]
  },
  {
   "cell_type": "code",
   "execution_count": 13,
   "metadata": {},
   "outputs": [
    {
     "name": "stdout",
     "output_type": "stream",
     "text": [
      "1. Layer - input_dim: 8257, output_dim: 1500, activation: relu\n",
      "2. Layer - input_dim: 1500, output_dim: 750, activation: relu\n",
      "3. Layer - input_dim: 750, output_dim: 300, activation: relu\n",
      "4. Layer - input_dim: 300, output_dim: 100, activation: relu\n",
      "5. Layer - input_dim: 100, output_dim: 3, activation: softmax\n"
     ]
    }
   ],
   "source": [
    "mlp = net.MLP()\n",
    "\n",
    "mlp.add_layer(input_dim=x_train.shape[1], output_dim=1500, activation=\"relu\")\n",
    "\n",
    "mlp.add_layer(input_dim=1500, output_dim=750, activation=\"relu\")\n",
    "\n",
    "mlp.add_layer(input_dim=750, output_dim=300, activation=\"relu\")\n",
    "\n",
    "mlp.add_layer(input_dim=300, output_dim=100, activation=\"relu\")\n",
    "\n",
    "mlp.add_layer(input_dim=100, output_dim=3, activation=\"softmax\")\n",
    "mlp.print_layers()\n",
    "mlp.init_layers()"
   ]
  },
  {
   "cell_type": "code",
   "execution_count": 14,
   "metadata": {},
   "outputs": [
    {
     "name": "stdout",
     "output_type": "stream",
     "text": [
      "Epoch: 1, loss: 3603.98, accuracy: 56.8%\n",
      "Epoch: 2, loss: 3551.07, accuracy: 56.8%\n",
      "Epoch: 3, loss: 3541.28, accuracy: 56.8%\n",
      "Epoch: 4, loss: 3538.81, accuracy: 56.8%\n",
      "Epoch: 5, loss: 3538.02, accuracy: 56.8%\n",
      "Epoch: 6, loss: 3537.66, accuracy: 56.8%\n",
      "Epoch: 7, loss: 3537.41, accuracy: 56.8%\n",
      "Epoch: 8, loss: 3537.17, accuracy: 56.8%\n",
      "Epoch: 9, loss: 3536.90, accuracy: 56.8%\n",
      "Epoch: 10, loss: 3536.58, accuracy: 56.8%\n",
      "Epoch: 11, loss: 3536.18, accuracy: 56.8%\n",
      "Epoch: 12, loss: 3535.68, accuracy: 56.8%\n",
      "Epoch: 13, loss: 3535.03, accuracy: 56.8%\n",
      "Epoch: 14, loss: 3534.14, accuracy: 56.8%\n",
      "Epoch: 15, loss: 3532.89, accuracy: 56.8%\n",
      "Epoch: 16, loss: 3531.07, accuracy: 56.8%\n",
      "Epoch: 17, loss: 3528.25, accuracy: 56.8%\n",
      "Epoch: 18, loss: 3523.58, accuracy: 56.8%\n",
      "Epoch: 19, loss: 3515.14, accuracy: 56.8%\n",
      "Epoch: 20, loss: 3497.76, accuracy: 56.8%\n"
     ]
    }
   ],
   "source": [
    "mlp.train_batch(x_train, y_train, 20)"
   ]
  },
  {
   "cell_type": "code",
   "execution_count": null,
   "metadata": {},
   "outputs": [],
   "source": []
  }
 ],
 "metadata": {
  "kernelspec": {
   "display_name": "Python 3",
   "language": "python",
   "name": "python3"
  },
  "language_info": {
   "codemirror_mode": {
    "name": "ipython",
    "version": 3
   },
   "file_extension": ".py",
   "mimetype": "text/x-python",
   "name": "python",
   "nbconvert_exporter": "python",
   "pygments_lexer": "ipython3",
   "version": "3.7.2"
  }
 },
 "nbformat": 4,
 "nbformat_minor": 2
}
