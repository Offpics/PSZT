{
 "cells": [
  {
   "cell_type": "code",
   "execution_count": 1,
   "metadata": {},
   "outputs": [],
   "source": [
    "from pszt import net\n",
    "import numpy as np"
   ]
  },
  {
   "cell_type": "code",
   "execution_count": 2,
   "metadata": {},
   "outputs": [],
   "source": [
    "mlp = net.MLP()"
   ]
  },
  {
   "cell_type": "code",
   "execution_count": 3,
   "metadata": {},
   "outputs": [],
   "source": [
    "mlp.print_layers()"
   ]
  },
  {
   "cell_type": "code",
   "execution_count": 4,
   "metadata": {},
   "outputs": [
    {
     "name": "stdout",
     "output_type": "stream",
     "text": [
      "x_train.shape: (1000, 8257), y_train.shape: (1000, 3)\n"
     ]
    }
   ],
   "source": [
    "x_train = np.load('x_train.npy')\n",
    "y_train = np.load('y_train.npy')\n",
    "print(f'x_train.shape: {x_train.shape}, y_train.shape: {y_train.shape}')"
   ]
  },
  {
   "cell_type": "code",
   "execution_count": 5,
   "metadata": {
    "scrolled": true
   },
   "outputs": [
    {
     "name": "stdout",
     "output_type": "stream",
     "text": [
      "1. Layer - input_dim: 8257, output_dim: 50, activation: relu\n"
     ]
    }
   ],
   "source": [
    "mlp.add_layer(input_dim=x_train.shape[1], output_dim=50, activation=\"relu\")\n",
    "mlp.print_layers()"
   ]
  },
  {
   "cell_type": "code",
   "execution_count": 6,
   "metadata": {},
   "outputs": [
    {
     "name": "stdout",
     "output_type": "stream",
     "text": [
      "1. Layer - input_dim: 8257, output_dim: 50, activation: relu\n",
      "2. Layer - input_dim: 50, output_dim: 3, activation: softmax\n"
     ]
    }
   ],
   "source": [
    "mlp.add_layer(input_dim=50, output_dim=3, activation=\"softmax\")\n",
    "mlp.print_layers()"
   ]
  },
  {
   "cell_type": "code",
   "execution_count": 7,
   "metadata": {},
   "outputs": [],
   "source": [
    "mlp.init_layers()"
   ]
  },
  {
   "cell_type": "code",
   "execution_count": 8,
   "metadata": {},
   "outputs": [
    {
     "name": "stdout",
     "output_type": "stream",
     "text": [
      "loss: 1096.11, accuracy: 34.0%\n",
      "loss: 993.11, accuracy: 55.5%\n",
      "loss: 952.42, accuracy: 55.5%\n",
      "loss: 932.98, accuracy: 55.5%\n",
      "loss: 921.50, accuracy: 55.5%\n",
      "loss: 911.47, accuracy: 55.5%\n",
      "loss: 899.91, accuracy: 55.5%\n",
      "loss: 885.37, accuracy: 55.5%\n",
      "loss: 867.41, accuracy: 55.5%\n",
      "loss: 847.16, accuracy: 55.5%\n",
      "loss: 827.64, accuracy: 61.2%\n",
      "loss: 810.92, accuracy: 67.7%\n",
      "loss: 797.06, accuracy: 70.3%\n",
      "loss: 785.26, accuracy: 70.4%\n",
      "loss: 774.83, accuracy: 71.0%\n",
      "loss: 765.28, accuracy: 70.6%\n",
      "loss: 756.25, accuracy: 70.9%\n",
      "loss: 747.50, accuracy: 71.1%\n",
      "loss: 738.88, accuracy: 71.5%\n",
      "loss: 730.23, accuracy: 71.9%\n",
      "loss: 721.48, accuracy: 72.6%\n",
      "loss: 712.58, accuracy: 72.7%\n",
      "loss: 703.49, accuracy: 73.3%\n",
      "loss: 694.21, accuracy: 73.7%\n",
      "loss: 684.75, accuracy: 74.4%\n",
      "loss: 675.13, accuracy: 75.1%\n",
      "loss: 665.42, accuracy: 76.2%\n",
      "loss: 655.77, accuracy: 76.3%\n",
      "loss: 646.78, accuracy: 77.4%\n",
      "loss: 640.89, accuracy: 76.7%\n",
      "loss: 650.93, accuracy: 77.1%\n",
      "loss: 733.31, accuracy: 70.1%\n",
      "loss: 1115.90, accuracy: 61.2%\n",
      "loss: 1156.70, accuracy: 41.7%\n",
      "loss: 727.92, accuracy: 75.8%\n",
      "loss: 673.22, accuracy: 73.6%\n",
      "loss: 651.12, accuracy: 76.5%\n",
      "loss: 634.81, accuracy: 76.5%\n",
      "loss: 621.76, accuracy: 78.0%\n",
      "loss: 610.15, accuracy: 78.2%\n",
      "loss: 599.86, accuracy: 79.3%\n",
      "loss: 590.72, accuracy: 79.3%\n",
      "loss: 583.91, accuracy: 79.6%\n",
      "loss: 581.79, accuracy: 80.4%\n",
      "loss: 595.86, accuracy: 77.8%\n",
      "loss: 642.63, accuracy: 76.1%\n",
      "loss: 788.20, accuracy: 70.7%\n",
      "loss: 886.43, accuracy: 58.1%\n",
      "loss: 812.37, accuracy: 72.3%\n",
      "loss: 706.73, accuracy: 72.6%\n",
      "loss: 629.83, accuracy: 78.1%\n",
      "loss: 588.90, accuracy: 77.1%\n",
      "loss: 570.74, accuracy: 79.5%\n",
      "loss: 557.90, accuracy: 78.6%\n",
      "loss: 555.67, accuracy: 79.0%\n",
      "loss: 557.75, accuracy: 78.8%\n",
      "loss: 579.62, accuracy: 77.5%\n",
      "loss: 604.18, accuracy: 76.5%\n",
      "loss: 663.92, accuracy: 73.9%\n",
      "loss: 678.30, accuracy: 70.9%\n",
      "loss: 691.17, accuracy: 73.9%\n",
      "loss: 633.90, accuracy: 74.3%\n",
      "loss: 590.66, accuracy: 77.7%\n",
      "loss: 544.92, accuracy: 78.3%\n",
      "loss: 524.66, accuracy: 79.6%\n",
      "loss: 504.69, accuracy: 79.8%\n",
      "loss: 499.73, accuracy: 79.8%\n",
      "loss: 494.11, accuracy: 80.1%\n",
      "loss: 506.40, accuracy: 78.8%\n",
      "loss: 514.55, accuracy: 80.0%\n",
      "loss: 551.65, accuracy: 76.3%\n",
      "loss: 561.88, accuracy: 77.0%\n",
      "loss: 599.51, accuracy: 75.1%\n",
      "loss: 569.08, accuracy: 77.2%\n",
      "loss: 555.24, accuracy: 77.1%\n",
      "loss: 500.22, accuracy: 82.1%\n",
      "loss: 475.97, accuracy: 80.3%\n",
      "loss: 443.01, accuracy: 84.3%\n",
      "loss: 428.85, accuracy: 82.8%\n",
      "loss: 410.06, accuracy: 87.1%\n",
      "loss: 405.91, accuracy: 83.9%\n",
      "loss: 398.28, accuracy: 87.8%\n",
      "loss: 406.97, accuracy: 83.6%\n",
      "loss: 411.17, accuracy: 87.4%\n",
      "loss: 442.44, accuracy: 80.6%\n",
      "loss: 457.25, accuracy: 83.5%\n",
      "loss: 511.17, accuracy: 78.3%\n",
      "loss: 500.77, accuracy: 81.4%\n",
      "loss: 507.23, accuracy: 79.2%\n",
      "loss: 441.37, accuracy: 84.0%\n",
      "loss: 411.19, accuracy: 84.1%\n",
      "loss: 356.15, accuracy: 89.8%\n",
      "loss: 331.74, accuracy: 87.1%\n",
      "loss: 305.46, accuracy: 92.6%\n",
      "loss: 295.34, accuracy: 88.5%\n",
      "loss: 279.43, accuracy: 93.6%\n",
      "loss: 274.92, accuracy: 88.7%\n",
      "loss: 262.94, accuracy: 94.2%\n",
      "loss: 263.14, accuracy: 89.6%\n",
      "loss: 254.14, accuracy: 94.8%\n"
     ]
    }
   ],
   "source": [
    "mlp.train(x_train, y_train, 100)"
   ]
  },
  {
   "cell_type": "code",
   "execution_count": null,
   "metadata": {},
   "outputs": [],
   "source": []
  }
 ],
 "metadata": {
  "kernelspec": {
   "display_name": "Python 3",
   "language": "python",
   "name": "python3"
  },
  "language_info": {
   "codemirror_mode": {
    "name": "ipython",
    "version": 3
   },
   "file_extension": ".py",
   "mimetype": "text/x-python",
   "name": "python",
   "nbconvert_exporter": "python",
   "pygments_lexer": "ipython3",
   "version": "3.7.1"
  }
 },
 "nbformat": 4,
 "nbformat_minor": 2
}
