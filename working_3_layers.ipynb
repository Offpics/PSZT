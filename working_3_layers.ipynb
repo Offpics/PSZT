{
 "cells": [
  {
   "cell_type": "code",
   "execution_count": 1,
   "metadata": {},
   "outputs": [],
   "source": [
    "from pszt import net\n",
    "import numpy as np"
   ]
  },
  {
   "cell_type": "code",
   "execution_count": 2,
   "metadata": {},
   "outputs": [],
   "source": [
    "mlp = net.MLP()"
   ]
  },
  {
   "cell_type": "code",
   "execution_count": 3,
   "metadata": {},
   "outputs": [],
   "source": [
    "mlp.print_layers()"
   ]
  },
  {
   "cell_type": "code",
   "execution_count": 4,
   "metadata": {},
   "outputs": [
    {
     "name": "stdout",
     "output_type": "stream",
     "text": [
      "x_train.shape: (1000, 8257), y_train.shape: (1000, 3)\n"
     ]
    }
   ],
   "source": [
    "x_train = np.load('x_train.npy')\n",
    "y_train = np.load('y_train.npy')\n",
    "print(f'x_train.shape: {x_train.shape}, y_train.shape: {y_train.shape}')"
   ]
  },
  {
   "cell_type": "code",
   "execution_count": 5,
   "metadata": {
    "scrolled": true
   },
   "outputs": [
    {
     "name": "stdout",
     "output_type": "stream",
     "text": [
      "1. Layer - input_dim: 8257, output_dim: 50, activation: relu\n"
     ]
    }
   ],
   "source": [
    "mlp.add_layer(input_dim=x_train.shape[1], output_dim=50, activation=\"relu\")\n",
    "mlp.print_layers()"
   ]
  },
  {
   "cell_type": "code",
   "execution_count": 6,
   "metadata": {},
   "outputs": [
    {
     "name": "stdout",
     "output_type": "stream",
     "text": [
      "1. Layer - input_dim: 8257, output_dim: 50, activation: relu\n",
      "2. Layer - input_dim: 50, output_dim: 3, activation: softmax\n"
     ]
    }
   ],
   "source": [
    "mlp.add_layer(input_dim=50, output_dim=3, activation=\"softmax\")\n",
    "mlp.print_layers()"
   ]
  },
  {
   "cell_type": "code",
   "execution_count": 7,
   "metadata": {},
   "outputs": [],
   "source": [
    "mlp.init_layers()"
   ]
  },
  {
   "cell_type": "code",
   "execution_count": 9,
   "metadata": {},
   "outputs": [
    {
     "name": "stdout",
     "output_type": "stream",
     "text": [
      "loss: 362.68, accuracy: 88.4%\n",
      "loss: 287.58, accuracy: 90.7%\n",
      "loss: 281.84, accuracy: 88.2%\n",
      "loss: 281.87, accuracy: 92.6%\n",
      "loss: 333.56, accuracy: 86.3%\n",
      "loss: 288.42, accuracy: 92.7%\n",
      "loss: 355.91, accuracy: 86.1%\n",
      "loss: 265.79, accuracy: 94.2%\n",
      "loss: 285.08, accuracy: 88.9%\n",
      "loss: 247.36, accuracy: 94.4%\n",
      "loss: 257.69, accuracy: 89.6%\n",
      "loss: 234.39, accuracy: 94.9%\n",
      "loss: 240.79, accuracy: 90.3%\n",
      "loss: 225.24, accuracy: 94.9%\n",
      "loss: 230.12, accuracy: 90.6%\n",
      "loss: 221.34, accuracy: 94.9%\n",
      "loss: 228.33, accuracy: 90.7%\n",
      "loss: 227.46, accuracy: 94.9%\n",
      "loss: 246.04, accuracy: 90.2%\n",
      "loss: 256.05, accuracy: 92.8%\n",
      "loss: 317.51, accuracy: 87.1%\n",
      "loss: 369.92, accuracy: 84.9%\n",
      "loss: 696.79, accuracy: 77.3%\n",
      "loss: 662.11, accuracy: 69.0%\n",
      "loss: 978.61, accuracy: 74.9%\n",
      "loss: 306.61, accuracy: 87.3%\n",
      "loss: 233.90, accuracy: 92.3%\n",
      "loss: 207.08, accuracy: 94.2%\n",
      "loss: 200.66, accuracy: 93.6%\n",
      "loss: 192.44, accuracy: 95.6%\n",
      "loss: 199.77, accuracy: 92.6%\n",
      "loss: 189.50, accuracy: 95.6%\n",
      "loss: 208.06, accuracy: 91.7%\n",
      "loss: 187.48, accuracy: 95.3%\n",
      "loss: 208.27, accuracy: 91.7%\n",
      "loss: 176.16, accuracy: 96.3%\n",
      "loss: 182.66, accuracy: 92.9%\n",
      "loss: 154.38, accuracy: 96.6%\n",
      "loss: 147.29, accuracy: 95.4%\n",
      "loss: 131.55, accuracy: 96.9%\n",
      "loss: 124.60, accuracy: 96.4%\n",
      "loss: 119.06, accuracy: 97.0%\n",
      "loss: 115.56, accuracy: 96.9%\n",
      "loss: 112.65, accuracy: 97.2%\n",
      "loss: 110.14, accuracy: 97.4%\n",
      "loss: 107.87, accuracy: 97.4%\n",
      "loss: 105.72, accuracy: 97.6%\n",
      "loss: 103.71, accuracy: 97.8%\n",
      "loss: 101.77, accuracy: 97.8%\n",
      "loss: 99.89, accuracy: 97.9%\n",
      "loss: 98.10, accuracy: 98.0%\n",
      "loss: 96.38, accuracy: 98.1%\n",
      "loss: 94.73, accuracy: 98.1%\n",
      "loss: 93.14, accuracy: 98.3%\n",
      "loss: 91.62, accuracy: 98.3%\n",
      "loss: 90.17, accuracy: 98.5%\n",
      "loss: 88.74, accuracy: 98.4%\n",
      "loss: 87.36, accuracy: 98.5%\n",
      "loss: 86.03, accuracy: 98.5%\n",
      "loss: 84.79, accuracy: 98.7%\n",
      "loss: 83.59, accuracy: 98.5%\n",
      "loss: 82.40, accuracy: 98.7%\n",
      "loss: 81.28, accuracy: 98.6%\n",
      "loss: 80.17, accuracy: 98.7%\n",
      "loss: 79.07, accuracy: 98.7%\n",
      "loss: 77.98, accuracy: 98.9%\n",
      "loss: 76.95, accuracy: 98.7%\n",
      "loss: 75.90, accuracy: 98.9%\n",
      "loss: 74.89, accuracy: 98.8%\n",
      "loss: 73.87, accuracy: 99.0%\n",
      "loss: 72.89, accuracy: 98.8%\n",
      "loss: 71.89, accuracy: 99.0%\n",
      "loss: 70.93, accuracy: 98.9%\n",
      "loss: 69.99, accuracy: 99.0%\n",
      "loss: 69.12, accuracy: 98.9%\n",
      "loss: 68.20, accuracy: 99.0%\n",
      "loss: 67.42, accuracy: 99.0%\n",
      "loss: 66.58, accuracy: 99.0%\n",
      "loss: 65.84, accuracy: 99.0%\n",
      "loss: 65.01, accuracy: 99.1%\n",
      "loss: 64.29, accuracy: 99.0%\n",
      "loss: 63.46, accuracy: 99.1%\n",
      "loss: 62.76, accuracy: 99.0%\n",
      "loss: 61.95, accuracy: 99.1%\n",
      "loss: 61.22, accuracy: 99.0%\n",
      "loss: 60.41, accuracy: 99.1%\n",
      "loss: 59.75, accuracy: 99.0%\n",
      "loss: 58.96, accuracy: 99.1%\n",
      "loss: 58.27, accuracy: 99.0%\n",
      "loss: 57.56, accuracy: 99.1%\n",
      "loss: 56.93, accuracy: 99.1%\n",
      "loss: 56.28, accuracy: 99.1%\n",
      "loss: 55.71, accuracy: 99.1%\n",
      "loss: 55.12, accuracy: 99.1%\n",
      "loss: 54.59, accuracy: 99.1%\n",
      "loss: 54.03, accuracy: 99.2%\n",
      "loss: 53.53, accuracy: 99.2%\n",
      "loss: 53.02, accuracy: 99.2%\n",
      "loss: 52.59, accuracy: 99.2%\n",
      "loss: 52.11, accuracy: 99.3%\n"
     ]
    }
   ],
   "source": [
    "mlp.train(x_train, y_train, 100)"
   ]
  }
 ],
 "metadata": {
  "kernelspec": {
   "display_name": "Python 3",
   "language": "python",
   "name": "python3"
  },
  "language_info": {
   "codemirror_mode": {
    "name": "ipython",
    "version": 3
   },
   "file_extension": ".py",
   "mimetype": "text/x-python",
   "name": "python",
   "nbconvert_exporter": "python",
   "pygments_lexer": "ipython3",
   "version": "3.7.1"
  }
 },
 "nbformat": 4,
 "nbformat_minor": 2
}
