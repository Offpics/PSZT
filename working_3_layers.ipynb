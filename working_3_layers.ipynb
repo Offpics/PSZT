{
 "cells": [
  {
   "cell_type": "code",
   "execution_count": 1,
   "metadata": {},
   "outputs": [],
   "source": [
    "from pszt import net\n",
    "import numpy as np"
   ]
  },
  {
   "cell_type": "code",
   "execution_count": 2,
   "metadata": {},
   "outputs": [],
   "source": [
    "mlp = net.MLP()"
   ]
  },
  {
   "cell_type": "code",
   "execution_count": 3,
   "metadata": {},
   "outputs": [],
   "source": [
    "mlp.print_layers()"
   ]
  },
  {
   "cell_type": "code",
   "execution_count": 4,
   "metadata": {},
   "outputs": [
    {
     "name": "stdout",
     "output_type": "stream",
     "text": [
      "x_train.shape: (1000, 8257), y_train.shape: (1000, 3)\n"
     ]
    }
   ],
   "source": [
    "x_train = np.load('x_train.npy')\n",
    "y_train = np.load('y_train.npy')\n",
    "print(f'x_train.shape: {x_train.shape}, y_train.shape: {y_train.shape}')"
   ]
  },
  {
   "cell_type": "code",
   "execution_count": 5,
   "metadata": {
    "scrolled": true
   },
   "outputs": [
    {
     "name": "stdout",
     "output_type": "stream",
     "text": [
      "1. Layer - input_dim: 8257, output_dim: 50, activation: relu\n"
     ]
    }
   ],
   "source": [
    "mlp.add_layer(input_dim=x_train.shape[1], output_dim=50, activation=\"relu\")\n",
    "mlp.print_layers()"
   ]
  },
  {
   "cell_type": "code",
   "execution_count": 6,
   "metadata": {},
   "outputs": [
    {
     "name": "stdout",
     "output_type": "stream",
     "text": [
      "1. Layer - input_dim: 8257, output_dim: 50, activation: relu\n",
      "2. Layer - input_dim: 50, output_dim: 3, activation: softmax\n"
     ]
    }
   ],
   "source": [
    "mlp.add_layer(input_dim=50, output_dim=3, activation=\"softmax\")\n",
    "mlp.print_layers()"
   ]
  },
  {
   "cell_type": "code",
   "execution_count": 7,
   "metadata": {},
   "outputs": [],
   "source": [
    "mlp.init_layers()"
   ]
  },
  {
   "cell_type": "code",
   "execution_count": 8,
   "metadata": {},
   "outputs": [
    {
     "name": "stdout",
     "output_type": "stream",
     "text": [
      "loss: 1104.70, accuracy: 10.5%\n",
      "loss: 996.17, accuracy: 55.5%\n",
      "loss: 953.46, accuracy: 55.5%\n",
      "loss: 933.18, accuracy: 55.5%\n",
      "loss: 921.35, accuracy: 55.5%\n",
      "loss: 911.10, accuracy: 55.5%\n",
      "loss: 899.28, accuracy: 55.5%\n",
      "loss: 884.41, accuracy: 55.5%\n",
      "loss: 866.16, accuracy: 55.5%\n",
      "loss: 846.12, accuracy: 55.5%\n",
      "loss: 826.99, accuracy: 61.7%\n",
      "loss: 810.68, accuracy: 67.7%\n",
      "loss: 797.11, accuracy: 70.3%\n",
      "loss: 785.53, accuracy: 70.2%\n",
      "loss: 775.26, accuracy: 71.1%\n",
      "loss: 765.86, accuracy: 71.0%\n",
      "loss: 757.01, accuracy: 71.1%\n",
      "loss: 748.47, accuracy: 71.3%\n",
      "loss: 740.06, accuracy: 72.1%\n",
      "loss: 731.70, accuracy: 72.0%\n",
      "loss: 723.26, accuracy: 72.2%\n",
      "loss: 714.70, accuracy: 72.5%\n",
      "loss: 705.99, accuracy: 73.1%\n",
      "loss: 697.13, accuracy: 73.6%\n",
      "loss: 688.10, accuracy: 74.3%\n",
      "loss: 678.93, accuracy: 74.9%\n",
      "loss: 669.80, accuracy: 76.3%\n",
      "loss: 661.13, accuracy: 76.2%\n",
      "loss: 654.71, accuracy: 77.2%\n",
      "loss: 657.27, accuracy: 76.0%\n",
      "loss: 699.45, accuracy: 74.6%\n",
      "loss: 857.40, accuracy: 60.0%\n",
      "loss: 1186.85, accuracy: 60.0%\n",
      "loss: 987.23, accuracy: 50.6%\n",
      "loss: 719.77, accuracy: 74.8%\n",
      "loss: 671.56, accuracy: 72.7%\n",
      "loss: 652.66, accuracy: 75.4%\n",
      "loss: 637.53, accuracy: 75.1%\n",
      "loss: 623.83, accuracy: 77.3%\n",
      "loss: 611.43, accuracy: 77.4%\n",
      "loss: 600.04, accuracy: 78.8%\n",
      "loss: 589.46, accuracy: 79.4%\n",
      "loss: 579.72, accuracy: 79.9%\n",
      "loss: 571.25, accuracy: 80.1%\n",
      "loss: 566.50, accuracy: 80.2%\n",
      "loss: 573.58, accuracy: 79.3%\n",
      "loss: 629.30, accuracy: 75.2%\n",
      "loss: 776.27, accuracy: 64.5%\n",
      "loss: 1128.93, accuracy: 62.4%\n",
      "loss: 943.21, accuracy: 56.0%\n",
      "loss: 645.70, accuracy: 78.2%\n",
      "loss: 587.65, accuracy: 76.4%\n",
      "loss: 560.54, accuracy: 79.3%\n",
      "loss: 540.64, accuracy: 79.0%\n",
      "loss: 525.28, accuracy: 80.7%\n",
      "loss: 513.99, accuracy: 80.9%\n",
      "loss: 507.81, accuracy: 81.6%\n",
      "loss: 510.32, accuracy: 80.5%\n",
      "loss: 542.15, accuracy: 77.7%\n",
      "loss: 609.37, accuracy: 73.6%\n",
      "loss: 818.55, accuracy: 69.3%\n",
      "loss: 819.44, accuracy: 61.3%\n",
      "loss: 745.54, accuracy: 73.1%\n",
      "loss: 606.29, accuracy: 77.2%\n",
      "loss: 540.50, accuracy: 80.0%\n",
      "loss: 497.24, accuracy: 79.5%\n",
      "loss: 480.85, accuracy: 81.3%\n",
      "loss: 468.22, accuracy: 81.9%\n",
      "loss: 472.86, accuracy: 80.8%\n",
      "loss: 478.28, accuracy: 81.4%\n",
      "loss: 522.77, accuracy: 77.0%\n",
      "loss: 552.02, accuracy: 75.9%\n",
      "loss: 669.17, accuracy: 73.1%\n",
      "loss: 624.76, accuracy: 72.9%\n",
      "loss: 639.75, accuracy: 75.8%\n",
      "loss: 529.83, accuracy: 80.2%\n",
      "loss: 489.55, accuracy: 80.4%\n",
      "loss: 439.20, accuracy: 85.1%\n",
      "loss: 421.02, accuracy: 83.8%\n",
      "loss: 398.27, accuracy: 87.4%\n",
      "loss: 392.42, accuracy: 85.2%\n",
      "loss: 383.38, accuracy: 88.1%\n",
      "loss: 393.63, accuracy: 84.9%\n",
      "loss: 397.40, accuracy: 86.4%\n",
      "loss: 444.28, accuracy: 80.8%\n",
      "loss: 461.45, accuracy: 82.1%\n",
      "loss: 583.61, accuracy: 77.0%\n",
      "loss: 524.70, accuracy: 77.8%\n",
      "loss: 600.50, accuracy: 77.9%\n",
      "loss: 424.54, accuracy: 84.0%\n",
      "loss: 387.89, accuracy: 85.8%\n",
      "loss: 337.73, accuracy: 90.4%\n",
      "loss: 334.83, accuracy: 87.7%\n",
      "loss: 324.03, accuracy: 91.5%\n",
      "loss: 361.54, accuracy: 85.6%\n",
      "loss: 304.91, accuracy: 93.2%\n",
      "loss: 327.92, accuracy: 86.9%\n",
      "loss: 284.43, accuracy: 94.0%\n",
      "loss: 298.17, accuracy: 88.1%\n",
      "loss: 269.19, accuracy: 94.4%\n"
     ]
    }
   ],
   "source": [
    "mlp.train(x_train, y_train, 100)"
   ]
  }
 ],
 "metadata": {
  "kernelspec": {
   "display_name": "Python 3",
   "language": "python",
   "name": "python3"
  },
  "language_info": {
   "codemirror_mode": {
    "name": "ipython",
    "version": 3
   },
   "file_extension": ".py",
   "mimetype": "text/x-python",
   "name": "python",
   "nbconvert_exporter": "python",
   "pygments_lexer": "ipython3",
   "version": "3.7.1"
  }
 },
 "nbformat": 4,
 "nbformat_minor": 2
}
