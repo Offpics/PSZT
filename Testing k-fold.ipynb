{
 "cells": [
  {
   "cell_type": "code",
   "execution_count": 1,
   "metadata": {},
   "outputs": [],
   "source": [
    "from pszt import net\n",
    "import numpy as np"
   ]
  },
  {
   "cell_type": "code",
   "execution_count": 2,
   "metadata": {},
   "outputs": [],
   "source": [
    "np.random.seed(42)"
   ]
  },
  {
   "cell_type": "code",
   "execution_count": 3,
   "metadata": {},
   "outputs": [],
   "source": [
    "mlp = net.MLP()"
   ]
  },
  {
   "cell_type": "code",
   "execution_count": 4,
   "metadata": {},
   "outputs": [],
   "source": [
    "x_train = np.load('x_train_no_ignore_no_norm.npy')\n",
    "y_train = np.load('y_train_no_ignore_no_norm.npy')"
   ]
  },
  {
   "cell_type": "code",
   "execution_count": 5,
   "metadata": {},
   "outputs": [
    {
     "name": "stdout",
     "output_type": "stream",
     "text": [
      "1. Layer - input_dim: 8257, output_dim: 20, activation: sigmoid\n"
     ]
    }
   ],
   "source": [
    "mlp.add_layer(input_dim=x_train.shape[1], output_dim=20, activation=\"sigmoid\")\n",
    "mlp.print_layers()"
   ]
  },
  {
   "cell_type": "code",
   "execution_count": 6,
   "metadata": {},
   "outputs": [
    {
     "name": "stdout",
     "output_type": "stream",
     "text": [
      "1. Layer - input_dim: 8257, output_dim: 20, activation: sigmoid\n",
      "2. Layer - input_dim: 20, output_dim: 3, activation: softmax\n"
     ]
    }
   ],
   "source": [
    "mlp.add_layer(input_dim=20, output_dim=3, activation=\"softmax\")\n",
    "mlp.print_layers()"
   ]
  },
  {
   "cell_type": "code",
   "execution_count": 9,
   "metadata": {},
   "outputs": [
    {
     "name": "stdout",
     "output_type": "stream",
     "text": [
      "Current fold: T0,\n",
      "Len of x_train: 3043,\n",
      "Len of x_test: 761.\n",
      "Mean accuracy on T0: 56.04\n",
      "Mean losses on T0: 931.61\n",
      "\n",
      "Current fold: T1,\n",
      "Len of x_train: 3043,\n",
      "Len of x_test: 761.\n",
      "Mean accuracy on T1: 55.56\n",
      "Mean losses on T1: 927.76\n",
      "\n",
      "Current fold: T2,\n",
      "Len of x_train: 3043,\n",
      "Len of x_test: 761.\n",
      "Mean accuracy on T2: 54.18\n",
      "Mean losses on T2: 955.77\n",
      "\n",
      "Current fold: T3,\n",
      "Len of x_train: 3043,\n",
      "Len of x_test: 761.\n",
      "Mean accuracy on T3: 56.62\n",
      "Mean losses on T3: 925.94\n",
      "\n",
      "Current fold: T4,\n",
      "Len of x_train: 3044,\n",
      "Len of x_test: 760.\n",
      "Mean accuracy on T4: 55.28\n",
      "Mean losses on T4: 925.05\n",
      "\n",
      "Accuracy list on Ti sets: [56.038107752956634, 55.55847568988173, 54.17871222076216, 56.62286465177399, 55.276315789473685]\n",
      "Losses list on Ti sets: [931.6085468564382, 927.7643129630238, 955.7666176575555, 925.9393578600996, 925.0546291519673]\n",
      "Mean accuracy on all T sets: 55.53\n",
      "Mean losses on all T sets: 933.23\n"
     ]
    }
   ],
   "source": [
    "mlp.k_fold_validation(x_train, y_train, 5, 20)"
   ]
  },
  {
   "cell_type": "code",
   "execution_count": 7,
   "metadata": {},
   "outputs": [],
   "source": [
    "mlp.init_layers()"
   ]
  },
  {
   "cell_type": "code",
   "execution_count": 8,
   "metadata": {},
   "outputs": [
    {
     "name": "stdout",
     "output_type": "stream",
     "text": [
      "Epoch: 10, loss: 3513.52, accuracy: 56.8%\n",
      "Epoch: 20, loss: 3405.55, accuracy: 58.4%\n",
      "Epoch: 30, loss: 3325.49, accuracy: 60.8%\n",
      "Epoch: 40, loss: 3241.78, accuracy: 63.0%\n",
      "Epoch: 50, loss: 3161.00, accuracy: 64.5%\n",
      "Epoch: 60, loss: 3090.50, accuracy: 66.1%\n",
      "Epoch: 70, loss: 3024.47, accuracy: 67.1%\n",
      "Epoch: 80, loss: 2945.94, accuracy: 68.4%\n",
      "Epoch: 90, loss: 2849.20, accuracy: 70.4%\n",
      "Epoch: 100, loss: 2765.31, accuracy: 73.0%\n",
      "Epoch: 110, loss: 2683.54, accuracy: 74.2%\n",
      "Epoch: 120, loss: 2975.81, accuracy: 68.9%\n",
      "Epoch: 130, loss: 3156.17, accuracy: 68.8%\n",
      "Epoch: 140, loss: 3011.00, accuracy: 69.1%\n",
      "Epoch: 150, loss: 2876.70, accuracy: 70.2%\n",
      "Epoch: 160, loss: 2811.50, accuracy: 70.7%\n",
      "Epoch: 170, loss: 2763.97, accuracy: 71.5%\n",
      "Epoch: 180, loss: 2721.29, accuracy: 72.0%\n",
      "Epoch: 190, loss: 2679.95, accuracy: 72.5%\n",
      "Epoch: 200, loss: 2637.05, accuracy: 72.8%\n",
      "Epoch: 210, loss: 2588.64, accuracy: 73.0%\n",
      "Epoch: 220, loss: 2533.85, accuracy: 73.6%\n",
      "Epoch: 230, loss: 2486.65, accuracy: 74.0%\n",
      "Epoch: 240, loss: 2404.39, accuracy: 75.3%\n",
      "Epoch: 250, loss: 2318.90, accuracy: 76.2%\n",
      "Epoch: 260, loss: 2247.11, accuracy: 77.1%\n",
      "Epoch: 270, loss: 2179.81, accuracy: 77.8%\n",
      "Epoch: 280, loss: 2110.91, accuracy: 78.4%\n",
      "Epoch: 290, loss: 2041.47, accuracy: 79.2%\n",
      "Epoch: 300, loss: 1974.23, accuracy: 80.4%\n",
      "Epoch: 310, loss: 1909.57, accuracy: 81.4%\n",
      "Epoch: 320, loss: 1847.09, accuracy: 82.2%\n",
      "Epoch: 330, loss: 1786.82, accuracy: 82.9%\n",
      "Epoch: 340, loss: 1728.59, accuracy: 83.5%\n",
      "Epoch: 350, loss: 1672.00, accuracy: 84.0%\n",
      "Epoch: 360, loss: 1617.31, accuracy: 84.6%\n",
      "Epoch: 370, loss: 1571.84, accuracy: 85.1%\n",
      "Epoch: 380, loss: 3805.41, accuracy: 77.7%\n",
      "Epoch: 390, loss: 1830.96, accuracy: 81.6%\n",
      "Epoch: 400, loss: 1625.87, accuracy: 83.2%\n",
      "Epoch: 410, loss: 1289.31, accuracy: 87.0%\n",
      "Epoch: 420, loss: 1570.87, accuracy: 85.2%\n",
      "Epoch: 430, loss: 2701.38, accuracy: 73.5%\n",
      "Epoch: 440, loss: 1094.44, accuracy: 89.6%\n",
      "Epoch: 450, loss: 2156.32, accuracy: 80.4%\n",
      "Epoch: 460, loss: 1430.01, accuracy: 86.1%\n",
      "Epoch: 470, loss: 978.69, accuracy: 92.1%\n",
      "Epoch: 480, loss: 1754.59, accuracy: 81.9%\n",
      "Epoch: 490, loss: 987.97, accuracy: 91.7%\n",
      "Epoch: 500, loss: 949.94, accuracy: 92.2%\n"
     ]
    }
   ],
   "source": [
    "mlp.train(x_train, y_train, epochs=500)"
   ]
  },
  {
   "cell_type": "code",
   "execution_count": null,
   "metadata": {},
   "outputs": [],
   "source": []
  }
 ],
 "metadata": {
  "kernelspec": {
   "display_name": "Python 3",
   "language": "python",
   "name": "python3"
  },
  "language_info": {
   "codemirror_mode": {
    "name": "ipython",
    "version": 3
   },
   "file_extension": ".py",
   "mimetype": "text/x-python",
   "name": "python",
   "nbconvert_exporter": "python",
   "pygments_lexer": "ipython3",
   "version": "3.7.2"
  }
 },
 "nbformat": 4,
 "nbformat_minor": 2
}
