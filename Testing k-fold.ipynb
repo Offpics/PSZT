{
 "cells": [
  {
   "cell_type": "code",
   "execution_count": 1,
   "metadata": {},
   "outputs": [],
   "source": [
    "from pszt import net\n",
    "import numpy as np"
   ]
  },
  {
   "cell_type": "code",
   "execution_count": 2,
   "metadata": {},
   "outputs": [],
   "source": [
    "np.random.seed(42)"
   ]
  },
  {
   "cell_type": "code",
   "execution_count": 3,
   "metadata": {},
   "outputs": [],
   "source": [
    "mlp = net.MLP()"
   ]
  },
  {
   "cell_type": "code",
   "execution_count": 4,
   "metadata": {},
   "outputs": [],
   "source": [
    "x_train = np.load('x_train_no_ignore_no_norm.npy')\n",
    "y_train = np.load('y_train_no_ignore_no_norm.npy')"
   ]
  },
  {
   "cell_type": "code",
   "execution_count": 5,
   "metadata": {},
   "outputs": [
    {
     "name": "stdout",
     "output_type": "stream",
     "text": [
      "1. Layer - input_dim: 8257, output_dim: 20, activation: sigmoid\n"
     ]
    }
   ],
   "source": [
    "mlp.add_layer(input_dim=x_train.shape[1], output_dim=20, activation=\"sigmoid\")\n",
    "mlp.print_layers()"
   ]
  },
  {
   "cell_type": "code",
   "execution_count": 6,
   "metadata": {},
   "outputs": [
    {
     "name": "stdout",
     "output_type": "stream",
     "text": [
      "1. Layer - input_dim: 8257, output_dim: 20, activation: sigmoid\n",
      "2. Layer - input_dim: 20, output_dim: 3, activation: softmax\n"
     ]
    }
   ],
   "source": [
    "mlp.add_layer(input_dim=20, output_dim=3, activation=\"softmax\")\n",
    "mlp.print_layers()"
   ]
  },
  {
   "cell_type": "code",
   "execution_count": 7,
   "metadata": {},
   "outputs": [
    {
     "name": "stdout",
     "output_type": "stream",
     "text": [
      "Current fold: T0,\n",
      "Len of x_train: 3043,\n",
      "Len of x_test: 761.\n",
      "Mean accuracy on T0: 55.22\n",
      "Mean losses on T0: 930.66\n",
      "\n",
      "Current fold: T1,\n",
      "Len of x_train: 3043,\n",
      "Len of x_test: 761.\n",
      "Mean accuracy on T1: 54.65\n",
      "Mean losses on T1: 933.09\n",
      "\n",
      "Current fold: T2,\n",
      "Len of x_train: 3043,\n",
      "Len of x_test: 761.\n",
      "Mean accuracy on T2: 55.99\n",
      "Mean losses on T2: 927.54\n",
      "\n",
      "Current fold: T3,\n",
      "Len of x_train: 3043,\n",
      "Len of x_test: 761.\n",
      "Mean accuracy on T3: 56.25\n",
      "Mean losses on T3: 918.59\n",
      "\n",
      "Current fold: T4,\n",
      "Len of x_train: 3044,\n",
      "Len of x_test: 760.\n",
      "Mean accuracy on T4: 57.76\n",
      "Mean losses on T4: 882.80\n",
      "\n",
      "Accuracy list on Ti sets: [55.223390275952696, 54.64520367936924, 55.992115637319316, 56.24835742444153, 57.75657894736842]\n",
      "Losses list on Ti sets: [930.6562184587519, 933.0875497834862, 927.5396514382368, 918.591504528729, 882.7955193642314]\n",
      "Mean accuracy on all T sets: 55.97\n",
      "Mean losses on all T sets: 918.53\n"
     ]
    }
   ],
   "source": [
    "mlp.k_fold_validation(x_train, y_train, 5, 20)"
   ]
  },
  {
   "cell_type": "code",
   "execution_count": 8,
   "metadata": {},
   "outputs": [],
   "source": [
    "mlp.init_layers()"
   ]
  },
  {
   "cell_type": "code",
   "execution_count": 10,
   "metadata": {},
   "outputs": [
    {
     "name": "stdout",
     "output_type": "stream",
     "text": [
      "Epoch: 10, loss: 3289.65, accuracy: 61.8%\n",
      "Epoch: 20, loss: 3134.89, accuracy: 65.5%\n",
      "Epoch: 30, loss: 2980.41, accuracy: 68.2%\n",
      "Epoch: 40, loss: 2854.56, accuracy: 70.9%\n",
      "Epoch: 50, loss: 2754.89, accuracy: 73.3%\n",
      "Epoch: 60, loss: 2835.72, accuracy: 69.6%\n",
      "Epoch: 70, loss: 3143.87, accuracy: 66.6%\n",
      "Epoch: 80, loss: 2861.62, accuracy: 70.4%\n",
      "Epoch: 90, loss: 2863.27, accuracy: 70.4%\n",
      "Epoch: 100, loss: 2820.85, accuracy: 70.7%\n",
      "Epoch: 110, loss: 2771.58, accuracy: 71.3%\n",
      "Epoch: 120, loss: 2733.78, accuracy: 71.5%\n",
      "Epoch: 130, loss: 2694.96, accuracy: 71.7%\n",
      "Epoch: 140, loss: 2636.29, accuracy: 72.2%\n",
      "Epoch: 150, loss: 2562.22, accuracy: 73.3%\n",
      "Epoch: 160, loss: 2477.80, accuracy: 74.1%\n",
      "Epoch: 170, loss: 2387.03, accuracy: 75.4%\n",
      "Epoch: 180, loss: 2291.69, accuracy: 76.6%\n",
      "Epoch: 190, loss: 2195.44, accuracy: 77.7%\n",
      "Epoch: 200, loss: 2107.91, accuracy: 78.5%\n",
      "Epoch: 210, loss: 2025.20, accuracy: 79.4%\n",
      "Epoch: 220, loss: 1944.06, accuracy: 80.7%\n",
      "Epoch: 230, loss: 1752.54, accuracy: 84.5%\n",
      "Epoch: 240, loss: 1721.44, accuracy: 84.5%\n",
      "Epoch: 250, loss: 1732.25, accuracy: 82.0%\n",
      "Epoch: 260, loss: 1861.95, accuracy: 81.4%\n",
      "Epoch: 270, loss: 1892.29, accuracy: 82.4%\n",
      "Epoch: 280, loss: 1645.59, accuracy: 84.9%\n",
      "Epoch: 290, loss: 1394.96, accuracy: 88.2%\n",
      "Epoch: 300, loss: 1654.86, accuracy: 84.8%\n",
      "Epoch: 310, loss: 2681.57, accuracy: 72.4%\n",
      "Epoch: 320, loss: 1405.14, accuracy: 85.7%\n",
      "Epoch: 330, loss: 1845.01, accuracy: 81.8%\n",
      "Epoch: 340, loss: 1312.58, accuracy: 87.7%\n",
      "Epoch: 350, loss: 1074.86, accuracy: 90.9%\n",
      "Epoch: 360, loss: 2731.47, accuracy: 76.1%\n",
      "Epoch: 370, loss: 1842.33, accuracy: 81.2%\n",
      "Epoch: 380, loss: 1160.24, accuracy: 89.0%\n",
      "Epoch: 390, loss: 1494.43, accuracy: 83.3%\n",
      "Epoch: 400, loss: 2792.99, accuracy: 75.5%\n",
      "Epoch: 410, loss: 1010.84, accuracy: 91.6%\n",
      "Epoch: 420, loss: 982.12, accuracy: 91.9%\n",
      "Epoch: 430, loss: 903.94, accuracy: 92.4%\n",
      "Epoch: 440, loss: 2539.53, accuracy: 67.9%\n",
      "Epoch: 450, loss: 948.75, accuracy: 91.4%\n",
      "Epoch: 460, loss: 773.49, accuracy: 93.5%\n",
      "Epoch: 470, loss: 1211.84, accuracy: 88.1%\n",
      "Epoch: 480, loss: 1034.10, accuracy: 90.8%\n",
      "Epoch: 490, loss: 850.50, accuracy: 92.8%\n",
      "Epoch: 500, loss: 808.21, accuracy: 93.3%\n"
     ]
    }
   ],
   "source": [
    "mlp.train(x_train, y_train, epochs=500)"
   ]
  }
 ],
 "metadata": {
  "kernelspec": {
   "display_name": "Python 3",
   "language": "python",
   "name": "python3"
  },
  "language_info": {
   "codemirror_mode": {
    "name": "ipython",
    "version": 3
   },
   "file_extension": ".py",
   "mimetype": "text/x-python",
   "name": "python",
   "nbconvert_exporter": "python",
   "pygments_lexer": "ipython3",
   "version": "3.7.2"
  }
 },
 "nbformat": 4,
 "nbformat_minor": 2
}
