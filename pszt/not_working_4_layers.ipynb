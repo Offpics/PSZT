{
 "cells": [
  {
   "cell_type": "code",
   "execution_count": 1,
   "metadata": {},
   "outputs": [],
   "source": [
    "from net import MLP\n",
    "import numpy as np"
   ]
  },
  {
   "cell_type": "code",
   "execution_count": 2,
   "metadata": {},
   "outputs": [],
   "source": [
    "mlp = MLP()"
   ]
  },
  {
   "cell_type": "code",
   "execution_count": 3,
   "metadata": {},
   "outputs": [],
   "source": [
    "mlp.print_layers()"
   ]
  },
  {
   "cell_type": "code",
   "execution_count": 4,
   "metadata": {},
   "outputs": [
    {
     "name": "stdout",
     "output_type": "stream",
     "text": [
      "x_train.shape: (1000, 8257), y_train.shape: (1000, 3)\n"
     ]
    }
   ],
   "source": [
    "x_train = np.load('x_train.npy')\n",
    "y_train = np.load('y_train.npy')\n",
    "print(f'x_train.shape: {x_train.shape}, y_train.shape: {y_train.shape}')"
   ]
  },
  {
   "cell_type": "code",
   "execution_count": 5,
   "metadata": {},
   "outputs": [
    {
     "name": "stdout",
     "output_type": "stream",
     "text": [
      "1. Layer - input_dim: 8257, output_dim: 1000, activation: relu\n"
     ]
    }
   ],
   "source": [
    "mlp.add_layer(input_dim=x_train.shape[1], output_dim=1000, activation=\"relu\")\n",
    "mlp.print_layers()"
   ]
  },
  {
   "cell_type": "code",
   "execution_count": 6,
   "metadata": {},
   "outputs": [
    {
     "name": "stdout",
     "output_type": "stream",
     "text": [
      "1. Layer - input_dim: 8257, output_dim: 1000, activation: relu\n",
      "1. Layer - input_dim: 1000, output_dim: 20, activation: relu\n"
     ]
    }
   ],
   "source": [
    "mlp.add_layer(input_dim=1000, output_dim=20, activation=\"relu\")\n",
    "mlp.print_layers()"
   ]
  },
  {
   "cell_type": "code",
   "execution_count": 7,
   "metadata": {},
   "outputs": [
    {
     "name": "stdout",
     "output_type": "stream",
     "text": [
      "1. Layer - input_dim: 8257, output_dim: 1000, activation: relu\n",
      "1. Layer - input_dim: 1000, output_dim: 20, activation: relu\n",
      "1. Layer - input_dim: 20, output_dim: 3, activation: softmax\n"
     ]
    }
   ],
   "source": [
    "mlp.add_layer(input_dim=20, output_dim=3, activation=\"softmax\")\n",
    "mlp.print_layers()"
   ]
  },
  {
   "cell_type": "code",
   "execution_count": 8,
   "metadata": {},
   "outputs": [],
   "source": [
    "mlp.init_layers()"
   ]
  },
  {
   "cell_type": "code",
   "execution_count": 9,
   "metadata": {},
   "outputs": [
    {
     "data": {
      "text/plain": [
       "array([[0.09128604, 0.0960539 , 0.08928713, ..., 0.15952392, 0.13883098,\n",
       "        0.06497602],\n",
       "       [0.06628767, 0.2009952 , 0.11611471, ..., 0.18553621, 0.11072157,\n",
       "        0.0161572 ],\n",
       "       [0.19502732, 0.16106552, 0.16227326, ..., 0.12317598, 0.27680047,\n",
       "        0.13411581],\n",
       "       ...,\n",
       "       [0.03200195, 0.11502592, 0.25257898, ..., 0.06329626, 0.2344428 ,\n",
       "        0.22117193],\n",
       "       [0.05360674, 0.26736379, 0.25573189, ..., 0.06952666, 0.10227537,\n",
       "        0.09561835],\n",
       "       [0.1282492 , 0.1881052 , 0.26616333, ..., 0.26657986, 0.07447342,\n",
       "        0.30116168]])"
      ]
     },
     "execution_count": 9,
     "metadata": {},
     "output_type": "execute_result"
    }
   ],
   "source": [
    "mlp.param_values['w2']"
   ]
  },
  {
   "cell_type": "code",
   "execution_count": 10,
   "metadata": {},
   "outputs": [
    {
     "name": "stderr",
     "output_type": "stream",
     "text": [
      "/home/kor/Dropbox/version-control/pszt-projekt/pszt/net.py:187: RuntimeWarning: invalid value encountered in true_divide\n",
      "  return expA / expA.sum(axis=1, keepdims=True)\n"
     ]
    }
   ],
   "source": [
    "mlp.forward(x_train)"
   ]
  },
  {
   "cell_type": "code",
   "execution_count": 11,
   "metadata": {},
   "outputs": [
    {
     "name": "stdout",
     "output_type": "stream",
     "text": [
      "[[ 84.3361915   86.17374192  88.04708986 ...  91.10345878  90.15896454\n",
      "   81.95129124]\n",
      " [ 94.0767038   95.51028906  97.89545202 ... 100.78702938 100.17827671\n",
      "   91.21147942]\n",
      " [ 78.13157969  79.95370804  81.74426767 ...  84.42610404  83.89278784\n",
      "   75.9337457 ]\n",
      " ...\n",
      " [ 94.09802148  95.75794804  97.89972622 ... 100.51229751  99.98378065\n",
      "   91.10607056]\n",
      " [120.85779091 122.97306647 125.22074022 ... 128.17778987 127.09802727\n",
      "  117.36334444]\n",
      " [113.51609049 115.63294472 117.72905542 ... 120.75808268 119.48093501\n",
      "  109.72063403]]\n",
      "[[1. 1. 1. ... 1. 1. 1.]\n",
      " [1. 1. 1. ... 1. 1. 1.]\n",
      " [1. 1. 1. ... 1. 1. 1.]\n",
      " ...\n",
      " [1. 1. 1. ... 1. 1. 1.]\n",
      " [1. 1. 1. ... 1. 1. 1.]\n",
      " [1. 1. 1. ... 1. 1. 1.]]\n"
     ]
    }
   ],
   "source": [
    "z = np.dot(mlp.memory['a1'], mlp.param_values['w2']) + mlp.param_values['b2']\n",
    "a = 1/(1+np.exp(-z))\n",
    "print(z)\n",
    "print(a)"
   ]
  },
  {
   "cell_type": "code",
   "execution_count": 12,
   "metadata": {},
   "outputs": [
    {
     "name": "stderr",
     "output_type": "stream",
     "text": [
      "/home/kor/Dropbox/version-control/pszt-projekt/pszt/net.py:187: RuntimeWarning: invalid value encountered in true_divide\n",
      "  return expA / expA.sum(axis=1, keepdims=True)\n"
     ]
    },
    {
     "name": "stdout",
     "output_type": "stream",
     "text": [
      "loss: nan, accuracy: 28.7%\n"
     ]
    },
    {
     "name": "stderr",
     "output_type": "stream",
     "text": [
      "/home/kor/Dropbox/version-control/pszt-projekt/pszt/net.py:109: RuntimeWarning: divide by zero encountered in log\n",
      "  cross_entropy_loss = np.sum(-y_true * np.log(y_pred))\n",
      "/home/kor/Dropbox/version-control/pszt-projekt/pszt/net.py:109: RuntimeWarning: invalid value encountered in multiply\n",
      "  cross_entropy_loss = np.sum(-y_true * np.log(y_pred))\n"
     ]
    }
   ],
   "source": [
    "mlp.train(x_train, y_train)"
   ]
  },
  {
   "cell_type": "code",
   "execution_count": 13,
   "metadata": {},
   "outputs": [
    {
     "data": {
      "text/plain": [
       "array([[ 84.3361915 ,  86.17374192,  88.04708986, ...,  91.10345878,\n",
       "         90.15896454,  81.95129124],\n",
       "       [ 94.0767038 ,  95.51028906,  97.89545202, ..., 100.78702938,\n",
       "        100.17827671,  91.21147942],\n",
       "       [ 78.13157969,  79.95370804,  81.74426767, ...,  84.42610404,\n",
       "         83.89278784,  75.9337457 ],\n",
       "       ...,\n",
       "       [ 94.09802148,  95.75794804,  97.89972622, ..., 100.51229751,\n",
       "         99.98378065,  91.10607056],\n",
       "       [120.85779091, 122.97306647, 125.22074022, ..., 128.17778987,\n",
       "        127.09802727, 117.36334444],\n",
       "       [113.51609049, 115.63294472, 117.72905542, ..., 120.75808268,\n",
       "        119.48093501, 109.72063403]])"
      ]
     },
     "execution_count": 13,
     "metadata": {},
     "output_type": "execute_result"
    }
   ],
   "source": [
    "mlp.memory['a2']"
   ]
  },
  {
   "cell_type": "code",
   "execution_count": null,
   "metadata": {},
   "outputs": [
    {
     "name": "stderr",
     "output_type": "stream",
     "text": [
      "/home/kor/Dropbox/version-control/pszt-projekt/pszt/net.py:168: RuntimeWarning: invalid value encountered in maximum\n",
      "  return np.maximum(0, x)\n",
      "/home/kor/Dropbox/version-control/pszt-projekt/pszt/net.py:172: RuntimeWarning: invalid value encountered in less_equal\n",
      "  x[x<=0] = 0\n",
      "/home/kor/Dropbox/version-control/pszt-projekt/pszt/net.py:173: RuntimeWarning: invalid value encountered in greater\n",
      "  x[x>0] = 1\n"
     ]
    },
    {
     "name": "stdout",
     "output_type": "stream",
     "text": [
      "loss: nan, accuracy: 34.0%\n",
      "loss: nan, accuracy: 34.0%\n",
      "loss: nan, accuracy: 34.0%\n"
     ]
    }
   ],
   "source": [
    "for i in range(100):\n",
    "    mlp.train(x_train, y_train)"
   ]
  }
 ],
 "metadata": {
  "kernelspec": {
   "display_name": "Python 3",
   "language": "python",
   "name": "python3"
  },
  "language_info": {
   "codemirror_mode": {
    "name": "ipython",
    "version": 3
   },
   "file_extension": ".py",
   "mimetype": "text/x-python",
   "name": "python",
   "nbconvert_exporter": "python",
   "pygments_lexer": "ipython3",
   "version": "3.7.1"
  }
 },
 "nbformat": 4,
 "nbformat_minor": 2
}
