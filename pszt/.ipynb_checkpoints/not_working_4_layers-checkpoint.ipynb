{
 "cells": [
  {
   "cell_type": "code",
   "execution_count": 1,
   "metadata": {},
   "outputs": [],
   "source": [
    "from net import MLP\n",
    "import numpy as np"
   ]
  },
  {
   "cell_type": "code",
   "execution_count": 2,
   "metadata": {},
   "outputs": [],
   "source": [
    "mlp = MLP()"
   ]
  },
  {
   "cell_type": "code",
   "execution_count": 3,
   "metadata": {},
   "outputs": [],
   "source": [
    "mlp.print_layers()"
   ]
  },
  {
   "cell_type": "code",
   "execution_count": 4,
   "metadata": {},
   "outputs": [
    {
     "name": "stdout",
     "output_type": "stream",
     "text": [
      "x_train.shape: (1000, 8257), y_train.shape: (1000, 3)\n"
     ]
    }
   ],
   "source": [
    "x_train = np.load('x_train.npy')\n",
    "y_train = np.load('y_train.npy')\n",
    "print(f'x_train.shape: {x_train.shape}, y_train.shape: {y_train.shape}')"
   ]
  },
  {
   "cell_type": "code",
   "execution_count": 5,
   "metadata": {},
   "outputs": [
    {
     "name": "stdout",
     "output_type": "stream",
     "text": [
      "1. Layer - input_dim: 8257, output_dim: 1000, activation: sigmoid\n"
     ]
    }
   ],
   "source": [
    "mlp.add_layer(input_dim=x_train.shape[1], output_dim=1000, activation=\"sigmoid\")\n",
    "mlp.print_layers()"
   ]
  },
  {
   "cell_type": "code",
   "execution_count": 6,
   "metadata": {},
   "outputs": [
    {
     "name": "stdout",
     "output_type": "stream",
     "text": [
      "1. Layer - input_dim: 8257, output_dim: 1000, activation: sigmoid\n",
      "1. Layer - input_dim: 1000, output_dim: 4, activation: sigmoid\n"
     ]
    }
   ],
   "source": [
    "mlp.add_layer(input_dim=1000, output_dim=4, activation=\"sigmoid\")\n",
    "mlp.print_layers()"
   ]
  },
  {
   "cell_type": "code",
   "execution_count": 7,
   "metadata": {},
   "outputs": [
    {
     "name": "stdout",
     "output_type": "stream",
     "text": [
      "1. Layer - input_dim: 8257, output_dim: 1000, activation: sigmoid\n",
      "1. Layer - input_dim: 1000, output_dim: 4, activation: sigmoid\n",
      "1. Layer - input_dim: 4, output_dim: 3, activation: softmax\n"
     ]
    }
   ],
   "source": [
    "mlp.add_layer(input_dim=4, output_dim=3, activation=\"softmax\")\n",
    "mlp.print_layers()"
   ]
  },
  {
   "cell_type": "code",
   "execution_count": 8,
   "metadata": {},
   "outputs": [],
   "source": [
    "mlp.init_layers()"
   ]
  },
  {
   "cell_type": "code",
   "execution_count": 9,
   "metadata": {},
   "outputs": [
    {
     "name": "stdout",
     "output_type": "stream",
     "text": [
      "loss: 1091.4933823637039, accuracy: 34.0%\n",
      "loss: 971.7814520588421, accuracy: 55.5%\n",
      "loss: 972.505009753763, accuracy: 34.0%\n",
      "loss: 986.3104528066983, accuracy: 55.5%\n",
      "loss: 982.0218258708279, accuracy: 34.0%\n",
      "loss: 996.1548665064768, accuracy: 55.5%\n",
      "loss: 987.7639910931971, accuracy: 34.0%\n",
      "loss: 1002.3743091881804, accuracy: 55.5%\n",
      "loss: 991.3447658714633, accuracy: 34.0%\n",
      "loss: 1006.3099601230649, accuracy: 55.5%\n",
      "loss: 993.5207150591749, accuracy: 34.0%\n",
      "loss: 1008.6785297306401, accuracy: 55.5%\n",
      "loss: 994.7875320127673, accuracy: 34.0%\n",
      "loss: 1010.0435023331195, accuracy: 55.5%\n",
      "loss: 995.5021457792702, accuracy: 34.0%\n",
      "loss: 1010.8081455680075, accuracy: 55.5%\n",
      "loss: 995.8974408588423, accuracy: 34.0%\n",
      "loss: 1011.2293363534084, accuracy: 55.5%\n",
      "loss: 996.1136285725293, accuracy: 34.0%\n",
      "loss: 1011.4591297325234, accuracy: 55.5%\n",
      "loss: 996.2311087408239, accuracy: 34.0%\n",
      "loss: 1011.5838347690992, accuracy: 55.5%\n",
      "loss: 996.2947246979269, accuracy: 34.0%\n",
      "loss: 1011.6513128275948, accuracy: 55.5%\n",
      "loss: 996.3291066562126, accuracy: 34.0%\n",
      "loss: 1011.6877673188742, accuracy: 55.5%\n",
      "loss: 996.3476693303558, accuracy: 34.0%\n",
      "loss: 1011.7074446156448, accuracy: 55.5%\n",
      "loss: 996.3576855615711, accuracy: 34.0%\n",
      "loss: 1011.718061022211, accuracy: 55.5%\n",
      "loss: 996.3630885635259, accuracy: 34.0%\n",
      "loss: 1011.7237874052914, accuracy: 55.5%\n",
      "loss: 996.3660025940306, accuracy: 34.0%\n",
      "loss: 1011.7268757394995, accuracy: 55.5%\n",
      "loss: 996.3675740937676, accuracy: 34.0%\n",
      "loss: 1011.7285412078245, accuracy: 55.5%\n",
      "loss: 996.368421542879, accuracy: 34.0%\n",
      "loss: 1011.7294393214944, accuracy: 55.5%\n",
      "loss: 996.3688785275918, accuracy: 34.0%\n",
      "loss: 1011.7299236242985, accuracy: 55.5%\n",
      "loss: 996.3691249519488, accuracy: 34.0%\n",
      "loss: 1011.7301847788906, accuracy: 55.5%\n",
      "loss: 996.3692578327752, accuracy: 34.0%\n",
      "loss: 1011.7303256025646, accuracy: 55.5%\n",
      "loss: 996.3693294865757, accuracy: 34.0%\n",
      "loss: 1011.7304015393489, accuracy: 55.5%\n",
      "loss: 996.3693681246252, accuracy: 34.0%\n",
      "loss: 1011.7304424869035, accuracy: 55.5%\n",
      "loss: 996.3693889594883, accuracy: 34.0%\n",
      "loss: 1011.7304645671202, accuracy: 55.5%\n",
      "loss: 996.3694001943006, accuracy: 34.0%\n",
      "loss: 1011.7304764734643, accuracy: 55.5%\n",
      "loss: 996.3694062524628, accuracy: 34.0%\n",
      "loss: 1011.7304828937366, accuracy: 55.5%\n",
      "loss: 996.3694095192119, accuracy: 34.0%\n",
      "loss: 1011.7304863557476, accuracy: 55.5%\n",
      "loss: 996.3694112807445, accuracy: 34.0%\n",
      "loss: 1011.7304882225706, accuracy: 55.5%\n",
      "loss: 996.3694122306167, accuracy: 34.0%\n",
      "loss: 1011.730489229219, accuracy: 55.5%\n",
      "loss: 996.369412742818, accuracy: 34.0%\n",
      "loss: 1011.7304897720352, accuracy: 55.5%\n",
      "loss: 996.3694130190127, accuracy: 34.0%\n",
      "loss: 1011.7304900647391, accuracy: 55.5%\n",
      "loss: 996.3694131679454, accuracy: 34.0%\n",
      "loss: 1011.7304902225744, accuracy: 55.5%\n",
      "loss: 996.3694132482553, accuracy: 34.0%\n",
      "loss: 1011.7304903076838, accuracy: 55.5%\n",
      "loss: 996.3694132915605, accuracy: 34.0%\n",
      "loss: 1011.7304903535768, accuracy: 55.5%\n",
      "loss: 996.3694133149114, accuracy: 34.0%\n",
      "loss: 1011.7304903783244, accuracy: 55.5%\n",
      "loss: 996.3694133275033, accuracy: 34.0%\n",
      "loss: 1011.730490391668, accuracy: 55.5%\n",
      "loss: 996.3694133342926, accuracy: 34.0%\n",
      "loss: 1011.7304903988638, accuracy: 55.5%\n",
      "loss: 996.3694133379543, accuracy: 34.0%\n",
      "loss: 1011.7304904027432, accuracy: 55.5%\n",
      "loss: 996.3694133399271, accuracy: 34.0%\n",
      "loss: 1011.7304904048353, accuracy: 55.5%\n",
      "loss: 996.3694133409931, accuracy: 34.0%\n",
      "loss: 1011.7304904059642, accuracy: 55.5%\n",
      "loss: 996.3694133415679, accuracy: 34.0%\n",
      "loss: 1011.730490406574, accuracy: 55.5%\n",
      "loss: 996.3694133418778, accuracy: 34.0%\n",
      "loss: 1011.7304904069026, accuracy: 55.5%\n",
      "loss: 996.3694133420444, accuracy: 34.0%\n",
      "loss: 1011.7304904070794, accuracy: 55.5%\n",
      "loss: 996.3694133421341, accuracy: 34.0%\n",
      "loss: 1011.7304904071736, accuracy: 55.5%\n",
      "loss: 996.3694133421826, accuracy: 34.0%\n",
      "loss: 1011.7304904072253, accuracy: 55.5%\n",
      "loss: 996.3694133422081, accuracy: 34.0%\n",
      "loss: 1011.7304904072523, accuracy: 55.5%\n",
      "loss: 996.3694133422225, accuracy: 34.0%\n",
      "loss: 1011.7304904072669, accuracy: 55.5%\n",
      "loss: 996.3694133422296, accuracy: 34.0%\n",
      "loss: 1011.730490407275, accuracy: 55.5%\n",
      "loss: 996.3694133422337, accuracy: 34.0%\n",
      "loss: 1011.7304904072802, accuracy: 55.5%\n"
     ]
    }
   ],
   "source": [
    "for i in range(100):\n",
    "    mlp.train(x_train, y_train)"
   ]
  }
 ],
 "metadata": {
  "kernelspec": {
   "display_name": "Python 3",
   "language": "python",
   "name": "python3"
  },
  "language_info": {
   "codemirror_mode": {
    "name": "ipython",
    "version": 3
   },
   "file_extension": ".py",
   "mimetype": "text/x-python",
   "name": "python",
   "nbconvert_exporter": "python",
   "pygments_lexer": "ipython3",
   "version": "3.7.1"
  }
 },
 "nbformat": 4,
 "nbformat_minor": 2
}
