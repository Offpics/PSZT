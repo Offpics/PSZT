{
 "cells": [
  {
   "cell_type": "code",
   "execution_count": 1,
   "metadata": {},
   "outputs": [],
   "source": [
    "from net import MLP\n",
    "import numpy as np"
   ]
  },
  {
   "cell_type": "code",
   "execution_count": 2,
   "metadata": {},
   "outputs": [],
   "source": [
    "mlp = MLP()"
   ]
  },
  {
   "cell_type": "code",
   "execution_count": 3,
   "metadata": {},
   "outputs": [],
   "source": [
    "mlp.print_layers()"
   ]
  },
  {
   "cell_type": "code",
   "execution_count": 4,
   "metadata": {},
   "outputs": [
    {
     "name": "stdout",
     "output_type": "stream",
     "text": [
      "x_train.shape: (1000, 8257), y_train.shape: (1000, 3)\n"
     ]
    }
   ],
   "source": [
    "x_train = np.load('x_train.npy')\n",
    "y_train = np.load('y_train.npy')\n",
    "print(f'x_train.shape: {x_train.shape}, y_train.shape: {y_train.shape}')"
   ]
  },
  {
   "cell_type": "code",
   "execution_count": 5,
   "metadata": {},
   "outputs": [
    {
     "name": "stdout",
     "output_type": "stream",
     "text": [
      "1. Layer - input_dim: 8257, output_dim: 4, activation: sigmoid\n"
     ]
    }
   ],
   "source": [
    "mlp.add_layer(input_dim=x_train.shape[1], output_dim=1000, activation=\"sigmoid\")\n",
    "mlp.print_layers()"
   ]
  },
  {
   "cell_type": "code",
   "execution_count": null,
   "metadata": {},
   "outputs": [],
   "source": [
    "mlp.add_layer(input_dim=1000, output_dim=4, activation=\"sigmoid\")\n",
    "mlp.print_layers()"
   ]
  },
  {
   "cell_type": "code",
   "execution_count": 6,
   "metadata": {},
   "outputs": [
    {
     "name": "stdout",
     "output_type": "stream",
     "text": [
      "1. Layer - input_dim: 8257, output_dim: 4, activation: sigmoid\n",
      "1. Layer - input_dim: 4, output_dim: 3, activation: softmax\n"
     ]
    }
   ],
   "source": [
    "mlp.add_layer(input_dim=4, output_dim=3, activation=\"softmax\")\n",
    "mlp.print_layers()"
   ]
  },
  {
   "cell_type": "code",
   "execution_count": 7,
   "metadata": {},
   "outputs": [],
   "source": [
    "mlp.init_layers()"
   ]
  },
  {
   "cell_type": "code",
   "execution_count": 8,
   "metadata": {},
   "outputs": [
    {
     "data": {
      "text/plain": [
       "(8257, 4)"
      ]
     },
     "execution_count": 8,
     "metadata": {},
     "output_type": "execute_result"
    }
   ],
   "source": [
    "mlp.param_values['w1'].shape"
   ]
  },
  {
   "cell_type": "code",
   "execution_count": 9,
   "metadata": {},
   "outputs": [],
   "source": [
    "mlp.forward(x_train)"
   ]
  },
  {
   "cell_type": "code",
   "execution_count": 10,
   "metadata": {},
   "outputs": [],
   "source": [
    "z2 = mlp.memory[\"z2\"]\n",
    "z1 = mlp.memory[\"z1\"]"
   ]
  },
  {
   "cell_type": "code",
   "execution_count": 11,
   "metadata": {},
   "outputs": [
    {
     "data": {
      "text/plain": [
       "array([[0.03459425, 0.16834346, 0.01908132],\n",
       "       [0.03717653, 0.17290534, 0.02068895],\n",
       "       [0.03522977, 0.16267307, 0.01699222],\n",
       "       ...,\n",
       "       [0.0374065 , 0.17744168, 0.02594891],\n",
       "       [0.0601796 , 0.20214832, 0.03720231],\n",
       "       [0.05227052, 0.1914192 , 0.03047371]])"
      ]
     },
     "execution_count": 11,
     "metadata": {},
     "output_type": "execute_result"
    }
   ],
   "source": [
    "z2"
   ]
  },
  {
   "cell_type": "code",
   "execution_count": 12,
   "metadata": {},
   "outputs": [
    {
     "data": {
      "text/plain": [
       "array([0.31972028, 0.36745291, 0.3128268 ])"
      ]
     },
     "execution_count": 12,
     "metadata": {},
     "output_type": "execute_result"
    }
   ],
   "source": [
    "mlp.memory[\"a2\"][999]"
   ]
  },
  {
   "cell_type": "code",
   "execution_count": 13,
   "metadata": {},
   "outputs": [
    {
     "name": "stdout",
     "output_type": "stream",
     "text": [
      "2\n",
      "{'input_dim': 4, 'output_dim': 3, 'activation': 'softmax'}\n",
      "1\n",
      "{'input_dim': 8257, 'output_dim': 4, 'activation': 'sigmoid'}\n"
     ]
    }
   ],
   "source": [
    "for i, layer in reversed(list(enumerate(mlp.layers, start=1))):\n",
    "    print(i)\n",
    "    print(layer)"
   ]
  },
  {
   "cell_type": "code",
   "execution_count": 14,
   "metadata": {},
   "outputs": [],
   "source": [
    "mlp.backward(x_train, y_train)"
   ]
  },
  {
   "cell_type": "code",
   "execution_count": 15,
   "metadata": {},
   "outputs": [
    {
     "data": {
      "text/plain": [
       "(4,)"
      ]
     },
     "execution_count": 15,
     "metadata": {},
     "output_type": "execute_result"
    }
   ],
   "source": [
    "mlp.grad_values['dcost_b1'].sum(axis=0).shape"
   ]
  },
  {
   "cell_type": "code",
   "execution_count": 16,
   "metadata": {},
   "outputs": [
    {
     "data": {
      "text/plain": [
       "array([[0.05602695, 0.01955098, 0.0005378 , 0.09511141],\n",
       "       [0.01313522, 0.08990372, 0.04643655, 0.09067976],\n",
       "       [0.0371283 , 0.0399739 , 0.01495625, 0.09935147],\n",
       "       ...,\n",
       "       [0.00169653, 0.07095471, 0.00874993, 0.06824808],\n",
       "       [0.04413516, 0.07193803, 0.07454953, 0.00157838],\n",
       "       [0.00354539, 0.01669586, 0.09464476, 0.05919391]])"
      ]
     },
     "execution_count": 16,
     "metadata": {},
     "output_type": "execute_result"
    }
   ],
   "source": [
    "mlp.param_values['w1']"
   ]
  },
  {
   "cell_type": "code",
   "execution_count": 17,
   "metadata": {},
   "outputs": [],
   "source": [
    "mlp.update_weights()"
   ]
  },
  {
   "cell_type": "code",
   "execution_count": 18,
   "metadata": {},
   "outputs": [
    {
     "data": {
      "text/plain": [
       "array([[0.05602695, 0.01955098, 0.0005378 , 0.09511141],\n",
       "       [0.01318749, 0.08986942, 0.04643835, 0.09070848],\n",
       "       [0.03712152, 0.0399635 , 0.01496827, 0.09933929],\n",
       "       ...,\n",
       "       [0.00169653, 0.07095471, 0.00874993, 0.06824808],\n",
       "       [0.04413516, 0.07193803, 0.07454953, 0.00157838],\n",
       "       [0.0036052 , 0.01667858, 0.09462938, 0.05924415]])"
      ]
     },
     "execution_count": 18,
     "metadata": {},
     "output_type": "execute_result"
    }
   ],
   "source": [
    "mlp.param_values['w1']"
   ]
  },
  {
   "cell_type": "code",
   "execution_count": 19,
   "metadata": {},
   "outputs": [
    {
     "name": "stdout",
     "output_type": "stream",
     "text": [
      "loss: 942.4792124873023, accuracy: 55.5%\n",
      "loss: 934.4129641803956, accuracy: 55.5%\n",
      "loss: 932.3994422085573, accuracy: 55.5%\n",
      "loss: 931.643271435182, accuracy: 55.5%\n",
      "loss: 931.2269294657393, accuracy: 55.5%\n",
      "loss: 930.9092939099557, accuracy: 55.5%\n",
      "loss: 930.6173270941008, accuracy: 55.5%\n",
      "loss: 930.3261302036169, accuracy: 55.5%\n",
      "loss: 930.0255012879018, accuracy: 55.5%\n",
      "loss: 929.7097900279725, accuracy: 55.5%\n",
      "loss: 929.3746565509323, accuracy: 55.5%\n",
      "loss: 929.0159858039975, accuracy: 55.5%\n",
      "loss: 928.6294925192882, accuracy: 55.5%\n",
      "loss: 928.210548418992, accuracy: 55.5%\n",
      "loss: 927.7540784811681, accuracy: 55.5%\n",
      "loss: 927.254475163254, accuracy: 55.5%\n",
      "loss: 926.705512950736, accuracy: 55.5%\n",
      "loss: 926.1002566739315, accuracy: 55.5%\n",
      "loss: 925.4309607809548, accuracy: 55.5%\n",
      "loss: 924.6889581659352, accuracy: 55.5%\n",
      "loss: 923.8645379295535, accuracy: 55.5%\n",
      "loss: 922.9468122262912, accuracy: 55.5%\n",
      "loss: 921.923573431488, accuracy: 55.5%\n",
      "loss: 920.7811444635331, accuracy: 55.5%\n",
      "loss: 919.5042274512841, accuracy: 55.5%\n",
      "loss: 918.0757593077401, accuracy: 55.5%\n",
      "loss: 916.4767874541127, accuracy: 55.5%\n",
      "loss: 914.6863852297624, accuracy: 55.5%\n",
      "loss: 912.681634642018, accuracy: 55.5%\n",
      "loss: 910.4377140510557, accuracy: 55.5%\n",
      "loss: 907.9281396748688, accuracy: 55.5%\n",
      "loss: 905.125221127447, accuracy: 55.5%\n",
      "loss: 902.0007999482909, accuracy: 55.5%\n",
      "loss: 898.527341832185, accuracy: 55.5%\n",
      "loss: 894.6794416047734, accuracy: 55.5%\n",
      "loss: 890.4357670112722, accuracy: 55.5%\n",
      "loss: 885.7814056545844, accuracy: 55.5%\n",
      "loss: 880.7104858731777, accuracy: 55.5%\n",
      "loss: 875.2288239522645, accuracy: 55.5%\n",
      "loss: 869.3562292577724, accuracy: 55.8%\n",
      "loss: 863.1280147884481, accuracy: 56.1%\n",
      "loss: 856.5952610852291, accuracy: 57.5%\n",
      "loss: 849.8235038798596, accuracy: 59.5%\n",
      "loss: 842.889762808426, accuracy: 61.1%\n",
      "loss: 835.8781513945996, accuracy: 64.8%\n",
      "loss: 828.8746152523744, accuracy: 66.9%\n",
      "loss: 821.9615352231353, accuracy: 69.0%\n",
      "loss: 815.212941358775, accuracy: 69.7%\n",
      "loss: 808.6909159856422, accuracy: 70.0%\n",
      "loss: 802.4434857867648, accuracy: 70.6%\n",
      "loss: 796.5040078235054, accuracy: 71.3%\n",
      "loss: 790.891822390682, accuracy: 71.3%\n",
      "loss: 785.613816422911, accuracy: 71.4%\n",
      "loss: 780.6665133099302, accuracy: 71.5%\n",
      "loss: 776.0383505321844, accuracy: 71.6%\n",
      "loss: 771.711889901316, accuracy: 71.2%\n",
      "loss: 767.6657963673426, accuracy: 71.0%\n",
      "loss: 763.8765013289897, accuracy: 70.8%\n",
      "loss: 760.3195267412556, accuracy: 70.9%\n",
      "loss: 756.9704861175217, accuracy: 70.6%\n",
      "loss: 753.8058008781795, accuracy: 70.6%\n",
      "loss: 750.8031799399453, accuracy: 70.7%\n",
      "loss: 747.9419113787019, accuracy: 70.8%\n",
      "loss: 745.2030110089778, accuracy: 70.7%\n",
      "loss: 742.56926637722, accuracy: 70.7%\n",
      "loss: 740.0252076377292, accuracy: 70.8%\n",
      "loss: 737.5570300488871, accuracy: 70.8%\n",
      "loss: 735.1524868877102, accuracy: 70.9%\n",
      "loss: 732.8007666165777, accuracy: 71.1%\n",
      "loss: 730.4923641490919, accuracy: 71.2%\n",
      "loss: 728.2189529598795, accuracy: 71.5%\n",
      "loss: 725.973262433934, accuracy: 71.6%\n",
      "loss: 723.7489631160289, accuracy: 71.8%\n",
      "loss: 721.5405612709931, accuracy: 71.9%\n",
      "loss: 719.34330328997, accuracy: 72.3%\n",
      "loss: 717.1530898844528, accuracy: 72.4%\n",
      "loss: 714.9663996257741, accuracy: 72.6%\n",
      "loss: 712.7802211560404, accuracy: 72.7%\n",
      "loss: 710.5919932739571, accuracy: 72.9%\n",
      "loss: 708.3995520532162, accuracy: 73.0%\n",
      "loss: 706.2010841581493, accuracy: 73.1%\n",
      "loss: 703.9950855636271, accuracy: 73.2%\n",
      "loss: 701.7803249509593, accuracy: 73.2%\n",
      "loss: 699.5558111294721, accuracy: 73.5%\n",
      "loss: 697.3207639177198, accuracy: 73.7%\n",
      "loss: 695.0745880038935, accuracy: 73.9%\n",
      "loss: 692.8168493881044, accuracy: 74.4%\n",
      "loss: 690.5472540870261, accuracy: 74.7%\n",
      "loss: 688.2656288516816, accuracy: 75.1%\n",
      "loss: 685.9719037103691, accuracy: 75.2%\n",
      "loss: 683.6660961997504, accuracy: 75.4%\n",
      "loss: 681.3482971873538, accuracy: 75.6%\n",
      "loss: 679.0186582180354, accuracy: 75.7%\n",
      "loss: 676.6773803356025, accuracy: 75.9%\n",
      "loss: 674.3247043395729, accuracy: 76.0%\n",
      "loss: 671.9609024370704, accuracy: 76.1%\n",
      "loss: 669.5862712425785, accuracy: 76.3%\n",
      "loss: 667.2011260654142, accuracy: 76.7%\n",
      "loss: 664.8057964081779, accuracy: 76.8%\n",
      "loss: 662.400622580992, accuracy: 76.9%\n"
     ]
    }
   ],
   "source": [
    "for i in range(100):\n",
    "    mlp.train(x_train, y_train)"
   ]
  },
  {
   "cell_type": "code",
   "execution_count": 20,
   "metadata": {},
   "outputs": [
    {
     "data": {
      "text/plain": [
       "array([[0.05602695, 0.01955098, 0.0005378 , 0.09511141],\n",
       "       [0.02217372, 0.07650347, 0.04611996, 0.09102937],\n",
       "       [0.02870192, 0.02436721, 0.00652438, 0.08759217],\n",
       "       ...,\n",
       "       [0.00169653, 0.07095471, 0.00874993, 0.06824808],\n",
       "       [0.04413516, 0.07193803, 0.07454953, 0.00157838],\n",
       "       [0.0173687 , 0.0126901 , 0.09942975, 0.0682669 ]])"
      ]
     },
     "execution_count": 20,
     "metadata": {},
     "output_type": "execute_result"
    }
   ],
   "source": [
    "mlp.param_values['w1']"
   ]
  },
  {
   "cell_type": "code",
   "execution_count": 21,
   "metadata": {},
   "outputs": [
    {
     "data": {
      "text/plain": [
       "array([[0.08238848, 0.83563231, 0.08197921],\n",
       "       [0.04880227, 0.88976125, 0.06143648],\n",
       "       [0.52839802, 0.33914308, 0.1324589 ],\n",
       "       ...,\n",
       "       [0.09037796, 0.8302987 , 0.07932334],\n",
       "       [0.66381227, 0.23125748, 0.10493026],\n",
       "       [0.07721114, 0.84705553, 0.07573333]])"
      ]
     },
     "execution_count": 21,
     "metadata": {},
     "output_type": "execute_result"
    }
   ],
   "source": [
    "a2 = mlp.memory['a2']\n",
    "a2"
   ]
  },
  {
   "cell_type": "code",
   "execution_count": 22,
   "metadata": {},
   "outputs": [],
   "source": [
    "correct_pred = 0\n",
    "for i in range(len(a2)):\n",
    "    equal = np.equal(np.argmax(y_train[i]), np.argmax(a2[i]))\n",
    "    correct_pred += equal.astype(float)"
   ]
  },
  {
   "cell_type": "code",
   "execution_count": 23,
   "metadata": {},
   "outputs": [
    {
     "data": {
      "text/plain": [
       "76.9"
      ]
     },
     "execution_count": 23,
     "metadata": {},
     "output_type": "execute_result"
    }
   ],
   "source": [
    "(correct_pred/len(y_train)) * 100"
   ]
  },
  {
   "cell_type": "code",
   "execution_count": 24,
   "metadata": {},
   "outputs": [
    {
     "data": {
      "text/plain": [
       "0.0"
      ]
     },
     "execution_count": 24,
     "metadata": {},
     "output_type": "execute_result"
    }
   ],
   "source": [
    "np.equal(np.argmax(y_train), np.argmax(a2)).astype(float)"
   ]
  },
  {
   "cell_type": "code",
   "execution_count": 25,
   "metadata": {},
   "outputs": [
    {
     "data": {
      "text/plain": [
       "array([[0., 1., 0.],\n",
       "       [0., 1., 0.],\n",
       "       [0., 1., 0.],\n",
       "       ...,\n",
       "       [0., 1., 0.],\n",
       "       [1., 0., 0.],\n",
       "       [0., 1., 0.]])"
      ]
     },
     "execution_count": 25,
     "metadata": {},
     "output_type": "execute_result"
    }
   ],
   "source": [
    "y_train"
   ]
  }
 ],
 "metadata": {
  "kernelspec": {
   "display_name": "Python 3",
   "language": "python",
   "name": "python3"
  },
  "language_info": {
   "codemirror_mode": {
    "name": "ipython",
    "version": 3
   },
   "file_extension": ".py",
   "mimetype": "text/x-python",
   "name": "python",
   "nbconvert_exporter": "python",
   "pygments_lexer": "ipython3",
   "version": "3.7.1"
  }
 },
 "nbformat": 4,
 "nbformat_minor": 2
}
