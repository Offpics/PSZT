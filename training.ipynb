{
 "cells": [
  {
   "cell_type": "code",
   "execution_count": 1,
   "metadata": {},
   "outputs": [],
   "source": [
    "from pszt import net\n",
    "import numpy as np\n",
    "import matplotlib\n",
    "import matplotlib.pyplot as plt\n",
    "\n",
    "%matplotlib inline"
   ]
  },
  {
   "cell_type": "markdown",
   "metadata": {},
   "source": [
    "# Sieć pierwsza bag-of-words"
   ]
  },
  {
   "cell_type": "code",
   "execution_count": 2,
   "metadata": {},
   "outputs": [],
   "source": [
    "x_train = np.load('x_train_no_ignore_no_norm.npy')\n",
    "y_train = np.load('y_train_no_ignore_no_norm.npy')"
   ]
  },
  {
   "cell_type": "code",
   "execution_count": 3,
   "metadata": {},
   "outputs": [
    {
     "name": "stdout",
     "output_type": "stream",
     "text": [
      "1. Layer - input_dim: 8257, output_dim: 50, activation: relu\n",
      "2. Layer - input_dim: 50, output_dim: 3, activation: softmax\n"
     ]
    }
   ],
   "source": [
    "mlp = net.MLP()\n",
    "\n",
    "mlp.add_layer(input_dim=x_train.shape[1], output_dim=50, activation=\"relu\")\n",
    "\n",
    "mlp.add_layer(input_dim=50, output_dim=3, activation=\"softmax\")\n",
    "mlp.print_layers()"
   ]
  },
  {
   "cell_type": "code",
   "execution_count": 4,
   "metadata": {},
   "outputs": [],
   "source": [
    "mlp.init_layers()"
   ]
  },
  {
   "cell_type": "code",
   "execution_count": 5,
   "metadata": {
    "scrolled": true
   },
   "outputs": [
    {
     "name": "stdout",
     "output_type": "stream",
     "text": [
      "Epoch: 1, loss: 3606.53, accuracy: 56.8%\n",
      "Epoch: 2, loss: 3507.91, accuracy: 56.8%\n",
      "Epoch: 3, loss: 3368.11, accuracy: 56.8%\n",
      "Epoch: 4, loss: 3211.70, accuracy: 56.8%\n",
      "Epoch: 5, loss: 3091.26, accuracy: 68.6%\n",
      "Epoch: 6, loss: 3003.34, accuracy: 69.2%\n",
      "Epoch: 7, loss: 2933.76, accuracy: 69.8%\n",
      "Epoch: 8, loss: 2871.32, accuracy: 71.3%\n",
      "Epoch: 9, loss: 2811.86, accuracy: 72.2%\n",
      "Epoch: 10, loss: 2752.36, accuracy: 72.8%\n",
      "Epoch: 11, loss: 2693.76, accuracy: 73.4%\n",
      "Epoch: 12, loss: 2636.66, accuracy: 74.0%\n",
      "Epoch: 13, loss: 2580.80, accuracy: 74.6%\n",
      "Epoch: 14, loss: 2524.89, accuracy: 75.3%\n",
      "Epoch: 15, loss: 2467.00, accuracy: 76.0%\n",
      "Epoch: 16, loss: 2407.02, accuracy: 76.6%\n",
      "Epoch: 17, loss: 2349.39, accuracy: 77.2%\n",
      "Epoch: 18, loss: 2276.98, accuracy: 77.8%\n",
      "Epoch: 19, loss: 2263.48, accuracy: 77.9%\n",
      "Epoch: 20, loss: 2185.82, accuracy: 78.4%\n",
      "Epoch: 21, loss: 2117.14, accuracy: 79.3%\n",
      "Epoch: 22, loss: 2046.92, accuracy: 79.7%\n",
      "Epoch: 23, loss: 1982.42, accuracy: 80.5%\n",
      "Epoch: 24, loss: 1924.47, accuracy: 81.3%\n",
      "Epoch: 25, loss: 1851.24, accuracy: 81.8%\n",
      "Epoch: 26, loss: 1793.12, accuracy: 82.3%\n",
      "Epoch: 27, loss: 1752.32, accuracy: 83.8%\n",
      "Epoch: 28, loss: 1724.68, accuracy: 82.8%\n",
      "Epoch: 29, loss: 2037.54, accuracy: 80.8%\n",
      "Epoch: 30, loss: 1581.00, accuracy: 85.9%\n",
      "Epoch: 31, loss: 1521.07, accuracy: 86.9%\n",
      "Epoch: 32, loss: 1443.36, accuracy: 86.8%\n",
      "Epoch: 33, loss: 1396.23, accuracy: 86.8%\n",
      "Epoch: 34, loss: 1348.47, accuracy: 87.6%\n",
      "Epoch: 35, loss: 1368.12, accuracy: 86.0%\n",
      "Epoch: 36, loss: 2441.82, accuracy: 74.2%\n",
      "Epoch: 37, loss: 1282.36, accuracy: 88.1%\n",
      "Epoch: 38, loss: 1256.62, accuracy: 90.4%\n",
      "Epoch: 39, loss: 1211.25, accuracy: 88.3%\n",
      "Epoch: 40, loss: 1194.92, accuracy: 91.3%\n",
      "Epoch: 41, loss: 1668.13, accuracy: 83.7%\n",
      "Epoch: 42, loss: 1289.61, accuracy: 89.9%\n",
      "Epoch: 43, loss: 1062.90, accuracy: 91.8%\n",
      "Epoch: 44, loss: 1073.01, accuracy: 92.3%\n",
      "Epoch: 45, loss: 988.59, accuracy: 92.2%\n",
      "Epoch: 46, loss: 967.07, accuracy: 92.8%\n",
      "Epoch: 47, loss: 972.67, accuracy: 91.1%\n",
      "Epoch: 48, loss: 1330.10, accuracy: 88.3%\n",
      "Epoch: 49, loss: 1009.41, accuracy: 91.7%\n",
      "Epoch: 50, loss: 874.45, accuracy: 92.7%\n",
      "Epoch: 51, loss: 978.45, accuracy: 92.6%\n",
      "Epoch: 52, loss: 822.21, accuracy: 94.3%\n",
      "Epoch: 53, loss: 1047.39, accuracy: 92.6%\n",
      "Epoch: 54, loss: 779.88, accuracy: 94.1%\n",
      "Epoch: 55, loss: 1248.18, accuracy: 90.4%\n",
      "Epoch: 56, loss: 966.66, accuracy: 90.0%\n",
      "Epoch: 57, loss: 732.85, accuracy: 94.2%\n",
      "Epoch: 58, loss: 735.28, accuracy: 94.0%\n",
      "Epoch: 59, loss: 768.87, accuracy: 93.2%\n",
      "Epoch: 60, loss: 736.28, accuracy: 93.8%\n",
      "Epoch: 61, loss: 806.16, accuracy: 92.9%\n",
      "Epoch: 62, loss: 688.03, accuracy: 95.1%\n",
      "Epoch: 63, loss: 722.78, accuracy: 94.2%\n",
      "Epoch: 64, loss: 829.88, accuracy: 93.7%\n",
      "Epoch: 65, loss: 729.50, accuracy: 93.9%\n",
      "Epoch: 66, loss: 677.26, accuracy: 95.0%\n",
      "Epoch: 67, loss: 635.31, accuracy: 95.5%\n",
      "Epoch: 68, loss: 631.83, accuracy: 94.7%\n",
      "Epoch: 69, loss: 622.66, accuracy: 95.6%\n",
      "Epoch: 70, loss: 586.56, accuracy: 95.6%\n",
      "Epoch: 71, loss: 663.30, accuracy: 95.3%\n",
      "Epoch: 72, loss: 574.12, accuracy: 95.8%\n",
      "Epoch: 73, loss: 580.08, accuracy: 95.6%\n",
      "Epoch: 74, loss: 559.24, accuracy: 95.8%\n",
      "Epoch: 75, loss: 604.24, accuracy: 95.9%\n",
      "Epoch: 76, loss: 1072.21, accuracy: 88.5%\n",
      "Epoch: 77, loss: 626.76, accuracy: 95.3%\n",
      "Epoch: 78, loss: 602.20, accuracy: 95.8%\n",
      "Epoch: 79, loss: 567.33, accuracy: 96.0%\n",
      "Epoch: 80, loss: 520.29, accuracy: 96.1%\n",
      "Epoch: 81, loss: 521.89, accuracy: 96.2%\n",
      "Epoch: 82, loss: 510.27, accuracy: 96.0%\n",
      "Epoch: 83, loss: 547.21, accuracy: 95.9%\n",
      "Epoch: 84, loss: 519.75, accuracy: 96.2%\n",
      "Epoch: 85, loss: 494.09, accuracy: 96.2%\n",
      "Epoch: 86, loss: 502.10, accuracy: 96.2%\n",
      "Epoch: 87, loss: 500.90, accuracy: 96.2%\n",
      "Epoch: 88, loss: 522.47, accuracy: 95.8%\n",
      "Epoch: 89, loss: 478.22, accuracy: 96.1%\n",
      "Epoch: 90, loss: 491.94, accuracy: 96.2%\n",
      "Epoch: 91, loss: 477.60, accuracy: 96.2%\n",
      "Epoch: 92, loss: 612.98, accuracy: 95.6%\n",
      "Epoch: 93, loss: 509.83, accuracy: 95.6%\n",
      "Epoch: 94, loss: 467.36, accuracy: 96.3%\n",
      "Epoch: 95, loss: 461.62, accuracy: 96.2%\n",
      "Epoch: 96, loss: 458.18, accuracy: 96.5%\n",
      "Epoch: 97, loss: 447.54, accuracy: 96.3%\n",
      "Epoch: 98, loss: 466.38, accuracy: 96.2%\n",
      "Epoch: 99, loss: 492.80, accuracy: 95.9%\n",
      "Epoch: 100, loss: 451.60, accuracy: 96.4%\n",
      "Epoch: 101, loss: 508.43, accuracy: 96.1%\n",
      "Epoch: 102, loss: 440.26, accuracy: 96.5%\n",
      "Epoch: 103, loss: 488.60, accuracy: 96.4%\n",
      "Epoch: 104, loss: 458.56, accuracy: 96.1%\n",
      "Epoch: 105, loss: 504.39, accuracy: 96.3%\n",
      "Epoch: 106, loss: 424.87, accuracy: 96.5%\n",
      "Epoch: 107, loss: 466.74, accuracy: 96.2%\n",
      "Epoch: 108, loss: 427.33, accuracy: 96.5%\n",
      "Epoch: 109, loss: 523.47, accuracy: 96.2%\n",
      "Epoch: 110, loss: 449.88, accuracy: 96.2%\n",
      "Epoch: 111, loss: 422.88, accuracy: 96.5%\n",
      "Epoch: 112, loss: 417.02, accuracy: 96.5%\n",
      "Epoch: 113, loss: 420.81, accuracy: 96.5%\n",
      "Epoch: 114, loss: 426.55, accuracy: 96.5%\n",
      "Epoch: 115, loss: 495.39, accuracy: 96.2%\n",
      "Epoch: 116, loss: 444.72, accuracy: 96.4%\n",
      "Epoch: 117, loss: 453.78, accuracy: 96.5%\n",
      "Epoch: 118, loss: 471.60, accuracy: 95.8%\n",
      "Epoch: 119, loss: 414.21, accuracy: 96.5%\n",
      "Epoch: 120, loss: 411.40, accuracy: 96.5%\n",
      "Epoch: 121, loss: 412.20, accuracy: 96.5%\n",
      "Epoch: 122, loss: 451.39, accuracy: 96.2%\n",
      "Epoch: 123, loss: 581.20, accuracy: 96.2%\n",
      "Epoch: 124, loss: 466.81, accuracy: 96.4%\n",
      "Epoch: 125, loss: 431.05, accuracy: 96.3%\n",
      "Epoch: 126, loss: 406.13, accuracy: 96.5%\n",
      "Epoch: 127, loss: 408.06, accuracy: 96.4%\n",
      "Epoch: 128, loss: 403.14, accuracy: 96.5%\n",
      "Epoch: 129, loss: 404.10, accuracy: 96.4%\n",
      "Epoch: 130, loss: 419.51, accuracy: 96.4%\n",
      "Epoch: 131, loss: 411.04, accuracy: 96.4%\n",
      "Epoch: 132, loss: 437.08, accuracy: 96.2%\n",
      "Epoch: 133, loss: 433.67, accuracy: 96.3%\n",
      "Epoch: 134, loss: 419.34, accuracy: 96.3%\n",
      "Epoch: 135, loss: 392.15, accuracy: 96.4%\n",
      "Epoch: 136, loss: 398.31, accuracy: 96.5%\n",
      "Epoch: 137, loss: 393.26, accuracy: 96.5%\n",
      "Epoch: 138, loss: 401.50, accuracy: 96.4%\n",
      "Epoch: 139, loss: 393.05, accuracy: 96.4%\n",
      "Epoch: 140, loss: 399.82, accuracy: 96.5%\n",
      "Epoch: 141, loss: 404.61, accuracy: 96.4%\n",
      "Epoch: 142, loss: 415.76, accuracy: 96.2%\n",
      "Epoch: 143, loss: 393.01, accuracy: 96.4%\n",
      "Epoch: 144, loss: 399.19, accuracy: 96.4%\n",
      "Epoch: 145, loss: 391.03, accuracy: 96.4%\n",
      "Epoch: 146, loss: 401.69, accuracy: 96.4%\n",
      "Epoch: 147, loss: 393.44, accuracy: 96.4%\n",
      "Epoch: 148, loss: 401.99, accuracy: 96.4%\n",
      "Epoch: 149, loss: 389.33, accuracy: 96.4%\n",
      "Epoch: 150, loss: 398.76, accuracy: 96.4%\n",
      "Epoch: 151, loss: 394.19, accuracy: 96.5%\n",
      "Epoch: 152, loss: 405.20, accuracy: 96.3%\n",
      "Epoch: 153, loss: 387.91, accuracy: 96.4%\n",
      "Epoch: 154, loss: 396.53, accuracy: 96.4%\n",
      "Epoch: 155, loss: 392.55, accuracy: 96.5%\n",
      "Epoch: 156, loss: 403.63, accuracy: 96.3%\n",
      "Epoch: 157, loss: 386.33, accuracy: 96.4%\n",
      "Epoch: 158, loss: 397.02, accuracy: 96.4%\n",
      "Epoch: 159, loss: 392.87, accuracy: 96.5%\n",
      "Epoch: 160, loss: 404.39, accuracy: 96.3%\n",
      "Epoch: 161, loss: 408.81, accuracy: 96.4%\n",
      "Epoch: 162, loss: 417.47, accuracy: 96.3%\n",
      "Epoch: 163, loss: 395.30, accuracy: 96.5%\n",
      "Epoch: 164, loss: 419.93, accuracy: 96.3%\n",
      "Epoch: 165, loss: 396.83, accuracy: 96.4%\n",
      "Epoch: 166, loss: 379.70, accuracy: 96.5%\n",
      "Epoch: 167, loss: 383.07, accuracy: 96.4%\n",
      "Epoch: 168, loss: 398.72, accuracy: 96.3%\n",
      "Epoch: 169, loss: 391.18, accuracy: 96.5%\n",
      "Epoch: 170, loss: 398.24, accuracy: 96.3%\n",
      "Epoch: 171, loss: 384.16, accuracy: 96.4%\n",
      "Epoch: 172, loss: 377.43, accuracy: 96.5%\n",
      "Epoch: 173, loss: 364.49, accuracy: 96.5%\n",
      "Epoch: 174, loss: 364.96, accuracy: 96.5%\n",
      "Epoch: 175, loss: 355.31, accuracy: 96.5%\n",
      "Epoch: 176, loss: 365.70, accuracy: 96.5%\n",
      "Epoch: 177, loss: 367.43, accuracy: 96.4%\n",
      "Epoch: 178, loss: 374.81, accuracy: 96.5%\n",
      "Epoch: 179, loss: 389.03, accuracy: 96.3%\n",
      "Epoch: 180, loss: 381.36, accuracy: 96.5%\n",
      "Epoch: 181, loss: 387.55, accuracy: 96.4%\n",
      "Epoch: 182, loss: 386.29, accuracy: 96.5%\n",
      "Epoch: 183, loss: 393.51, accuracy: 96.3%\n",
      "Epoch: 184, loss: 380.94, accuracy: 96.5%\n",
      "Epoch: 185, loss: 381.74, accuracy: 96.4%\n",
      "Epoch: 186, loss: 394.06, accuracy: 96.5%\n",
      "Epoch: 187, loss: 402.91, accuracy: 96.2%\n",
      "Epoch: 188, loss: 379.75, accuracy: 96.5%\n",
      "Epoch: 189, loss: 375.99, accuracy: 96.4%\n",
      "Epoch: 190, loss: 386.84, accuracy: 96.5%\n",
      "Epoch: 191, loss: 395.54, accuracy: 96.3%\n",
      "Epoch: 192, loss: 378.70, accuracy: 96.5%\n",
      "Epoch: 193, loss: 377.89, accuracy: 96.4%\n",
      "Epoch: 194, loss: 387.10, accuracy: 96.5%\n",
      "Epoch: 195, loss: 397.45, accuracy: 96.3%\n",
      "Epoch: 196, loss: 379.79, accuracy: 96.5%\n",
      "Epoch: 197, loss: 375.13, accuracy: 96.4%\n"
     ]
    },
    {
     "name": "stdout",
     "output_type": "stream",
     "text": [
      "Epoch: 198, loss: 385.12, accuracy: 96.5%\n",
      "Epoch: 199, loss: 395.84, accuracy: 96.3%\n",
      "Epoch: 200, loss: 379.14, accuracy: 96.5%\n"
     ]
    }
   ],
   "source": [
    "mlp.train_batch(x=x_train, y_true=y_train, epochs=200, batch_size=256)"
   ]
  },
  {
   "cell_type": "code",
   "execution_count": 6,
   "metadata": {},
   "outputs": [
    {
     "data": {
      "image/png": "[encoded data removed]",
      "text/plain": [
       "<Figure size 432x288 with 1 Axes>"
      ]
     },
     "metadata": {
      "needs_background": "light"
     },
     "output_type": "display_data"
    }
   ],
   "source": [
    "fig, ax = plt.subplots()\n",
    "ax.plot(mlp.accuracies)\n",
    "\n",
    "ax.set(xlabel='epochs', ylabel='accuracy [%]', title='Accuracies on Train Set')\n",
    "ax.grid()\n",
    "\n",
    "plt.show()"
   ]
  },
  {
   "cell_type": "code",
   "execution_count": 7,
   "metadata": {},
   "outputs": [
    {
     "data": {
      "image/png": "[encoded data removed]",
      "text/plain": [
       "<Figure size 432x288 with 1 Axes>"
      ]
     },
     "metadata": {
      "needs_background": "light"
     },
     "output_type": "display_data"
    }
   ],
   "source": [
    "fig, ax = plt.subplots()\n",
    "ax.plot(mlp.losses)\n",
    "\n",
    "ax.set(xlabel='epochs', ylabel='loss', title='Loss on Train set')\n",
    "ax.grid()\n",
    "\n",
    "plt.show()"
   ]
  },
  {
   "cell_type": "markdown",
   "metadata": {},
   "source": [
    "# Sieć druga - TFIDF"
   ]
  },
  {
   "cell_type": "code",
   "execution_count": 8,
   "metadata": {},
   "outputs": [],
   "source": [
    "x_train = np.load('x_tfidf.npy')\n",
    "y_train = np.load('y_tfidf.npy')"
   ]
  },
  {
   "cell_type": "code",
   "execution_count": 9,
   "metadata": {},
   "outputs": [
    {
     "name": "stdout",
     "output_type": "stream",
     "text": [
      "1. Layer - input_dim: 8257, output_dim: 50, activation: relu\n",
      "2. Layer - input_dim: 50, output_dim: 3, activation: softmax\n"
     ]
    }
   ],
   "source": [
    "mlp = net.MLP()\n",
    "\n",
    "mlp.add_layer(input_dim=x_train.shape[1], output_dim=50, activation=\"relu\")\n",
    "\n",
    "mlp.add_layer(input_dim=50, output_dim=3, activation=\"softmax\")\n",
    "mlp.print_layers()"
   ]
  },
  {
   "cell_type": "code",
   "execution_count": 10,
   "metadata": {},
   "outputs": [],
   "source": [
    "mlp.init_layers()"
   ]
  },
  {
   "cell_type": "code",
   "execution_count": 11,
   "metadata": {},
   "outputs": [
    {
     "name": "stdout",
     "output_type": "stream",
     "text": [
      "Epoch: 1, loss: 3614.86, accuracy: 56.8%\n",
      "Epoch: 2, loss: 3555.93, accuracy: 56.8%\n",
      "Epoch: 3, loss: 3543.51, accuracy: 56.8%\n",
      "Epoch: 4, loss: 3539.94, accuracy: 56.8%\n",
      "Epoch: 5, loss: 3538.77, accuracy: 56.8%\n",
      "Epoch: 6, loss: 3538.35, accuracy: 56.8%\n",
      "Epoch: 7, loss: 3538.16, accuracy: 56.8%\n",
      "Epoch: 8, loss: 3538.05, accuracy: 56.8%\n",
      "Epoch: 9, loss: 3537.97, accuracy: 56.8%\n",
      "Epoch: 10, loss: 3537.88, accuracy: 56.8%\n",
      "Epoch: 11, loss: 3537.78, accuracy: 56.8%\n",
      "Epoch: 12, loss: 3537.67, accuracy: 56.8%\n",
      "Epoch: 13, loss: 3537.52, accuracy: 56.8%\n",
      "Epoch: 14, loss: 3537.34, accuracy: 56.8%\n",
      "Epoch: 15, loss: 3537.11, accuracy: 56.8%\n",
      "Epoch: 16, loss: 3536.81, accuracy: 56.8%\n",
      "Epoch: 17, loss: 3536.44, accuracy: 56.8%\n",
      "Epoch: 18, loss: 3535.96, accuracy: 56.8%\n",
      "Epoch: 19, loss: 3535.35, accuracy: 56.8%\n",
      "Epoch: 20, loss: 3534.56, accuracy: 56.8%\n",
      "Epoch: 21, loss: 3533.55, accuracy: 56.8%\n",
      "Epoch: 22, loss: 3532.25, accuracy: 56.8%\n",
      "Epoch: 23, loss: 3530.59, accuracy: 56.8%\n",
      "Epoch: 24, loss: 3528.46, accuracy: 56.8%\n",
      "Epoch: 25, loss: 3525.72, accuracy: 56.8%\n",
      "Epoch: 26, loss: 3522.22, accuracy: 56.8%\n",
      "Epoch: 27, loss: 3517.74, accuracy: 56.8%\n",
      "Epoch: 28, loss: 3512.04, accuracy: 56.8%\n",
      "Epoch: 29, loss: 3504.80, accuracy: 56.8%\n",
      "Epoch: 30, loss: 3495.62, accuracy: 56.8%\n",
      "Epoch: 31, loss: 3484.07, accuracy: 56.8%\n",
      "Epoch: 32, loss: 3469.60, accuracy: 56.8%\n",
      "Epoch: 33, loss: 3451.67, accuracy: 56.8%\n",
      "Epoch: 34, loss: 3429.62, accuracy: 56.8%\n",
      "Epoch: 35, loss: 3402.84, accuracy: 56.8%\n",
      "Epoch: 36, loss: 3370.88, accuracy: 57.0%\n",
      "Epoch: 37, loss: 3333.35, accuracy: 57.4%\n",
      "Epoch: 38, loss: 3290.26, accuracy: 58.0%\n",
      "Epoch: 39, loss: 3241.82, accuracy: 59.0%\n",
      "Epoch: 40, loss: 3188.72, accuracy: 60.6%\n",
      "Epoch: 41, loss: 3131.81, accuracy: 62.1%\n",
      "Epoch: 42, loss: 3072.31, accuracy: 63.7%\n",
      "Epoch: 43, loss: 3011.59, accuracy: 66.3%\n",
      "Epoch: 44, loss: 2951.19, accuracy: 68.2%\n",
      "Epoch: 45, loss: 2892.43, accuracy: 70.4%\n",
      "Epoch: 46, loss: 2836.16, accuracy: 71.8%\n",
      "Epoch: 47, loss: 2783.05, accuracy: 73.1%\n",
      "Epoch: 48, loss: 2733.23, accuracy: 74.1%\n",
      "Epoch: 49, loss: 2686.60, accuracy: 75.0%\n",
      "Epoch: 50, loss: 2642.90, accuracy: 75.7%\n",
      "Epoch: 51, loss: 2601.83, accuracy: 76.3%\n",
      "Epoch: 52, loss: 2563.11, accuracy: 76.6%\n",
      "Epoch: 53, loss: 2526.34, accuracy: 77.1%\n",
      "Epoch: 54, loss: 2491.33, accuracy: 77.5%\n",
      "Epoch: 55, loss: 2457.76, accuracy: 77.9%\n",
      "Epoch: 56, loss: 2425.49, accuracy: 78.3%\n",
      "Epoch: 57, loss: 2394.32, accuracy: 78.5%\n",
      "Epoch: 58, loss: 2364.12, accuracy: 78.7%\n",
      "Epoch: 59, loss: 2334.78, accuracy: 79.0%\n",
      "Epoch: 60, loss: 2306.21, accuracy: 79.3%\n",
      "Epoch: 61, loss: 2278.35, accuracy: 79.4%\n",
      "Epoch: 62, loss: 2251.09, accuracy: 79.7%\n",
      "Epoch: 63, loss: 2224.43, accuracy: 79.9%\n",
      "Epoch: 64, loss: 2198.32, accuracy: 80.2%\n",
      "Epoch: 65, loss: 2172.70, accuracy: 80.3%\n",
      "Epoch: 66, loss: 2147.58, accuracy: 80.4%\n",
      "Epoch: 67, loss: 2122.93, accuracy: 80.5%\n",
      "Epoch: 68, loss: 2098.68, accuracy: 80.8%\n",
      "Epoch: 69, loss: 2074.85, accuracy: 81.0%\n",
      "Epoch: 70, loss: 2051.50, accuracy: 81.3%\n",
      "Epoch: 71, loss: 2028.45, accuracy: 81.5%\n",
      "Epoch: 72, loss: 2005.82, accuracy: 81.8%\n",
      "Epoch: 73, loss: 1983.70, accuracy: 81.9%\n",
      "Epoch: 74, loss: 1961.65, accuracy: 82.1%\n",
      "Epoch: 75, loss: 1940.16, accuracy: 82.3%\n",
      "Epoch: 76, loss: 1918.93, accuracy: 82.5%\n",
      "Epoch: 77, loss: 1897.97, accuracy: 82.6%\n",
      "Epoch: 78, loss: 1876.96, accuracy: 82.7%\n",
      "Epoch: 79, loss: 1856.47, accuracy: 82.9%\n",
      "Epoch: 80, loss: 1835.89, accuracy: 83.0%\n",
      "Epoch: 81, loss: 1815.34, accuracy: 83.1%\n",
      "Epoch: 82, loss: 1795.26, accuracy: 83.2%\n",
      "Epoch: 83, loss: 1773.71, accuracy: 83.5%\n",
      "Epoch: 84, loss: 1756.98, accuracy: 83.6%\n",
      "Epoch: 85, loss: 1727.63, accuracy: 83.8%\n",
      "Epoch: 86, loss: 1763.66, accuracy: 83.3%\n",
      "Epoch: 87, loss: 1723.22, accuracy: 83.2%\n",
      "Epoch: 88, loss: 1788.78, accuracy: 82.8%\n",
      "Epoch: 89, loss: 1679.59, accuracy: 83.6%\n",
      "Epoch: 90, loss: 1673.67, accuracy: 83.6%\n",
      "Epoch: 91, loss: 1642.00, accuracy: 83.8%\n",
      "Epoch: 92, loss: 1646.07, accuracy: 83.7%\n",
      "Epoch: 93, loss: 1610.13, accuracy: 84.0%\n",
      "Epoch: 94, loss: 1594.01, accuracy: 84.1%\n",
      "Epoch: 95, loss: 1565.96, accuracy: 84.5%\n",
      "Epoch: 96, loss: 1550.21, accuracy: 84.3%\n",
      "Epoch: 97, loss: 1525.69, accuracy: 85.3%\n",
      "Epoch: 98, loss: 1511.07, accuracy: 84.8%\n",
      "Epoch: 99, loss: 1485.55, accuracy: 85.8%\n",
      "Epoch: 100, loss: 1466.13, accuracy: 85.2%\n",
      "Epoch: 101, loss: 1441.39, accuracy: 86.5%\n",
      "Epoch: 102, loss: 1419.77, accuracy: 86.6%\n",
      "Epoch: 103, loss: 1396.15, accuracy: 87.0%\n",
      "Epoch: 104, loss: 1377.81, accuracy: 87.3%\n",
      "Epoch: 105, loss: 1354.83, accuracy: 87.6%\n",
      "Epoch: 106, loss: 1338.41, accuracy: 88.0%\n",
      "Epoch: 107, loss: 1315.27, accuracy: 88.2%\n",
      "Epoch: 108, loss: 1294.70, accuracy: 88.6%\n",
      "Epoch: 109, loss: 1270.57, accuracy: 89.0%\n",
      "Epoch: 110, loss: 1249.52, accuracy: 89.4%\n",
      "Epoch: 111, loss: 1223.33, accuracy: 89.6%\n",
      "Epoch: 112, loss: 1205.13, accuracy: 89.9%\n",
      "Epoch: 113, loss: 1176.03, accuracy: 90.2%\n",
      "Epoch: 114, loss: 1162.40, accuracy: 90.4%\n",
      "Epoch: 115, loss: 1134.09, accuracy: 90.8%\n",
      "Epoch: 116, loss: 1124.21, accuracy: 90.9%\n",
      "Epoch: 117, loss: 1102.16, accuracy: 91.1%\n",
      "Epoch: 118, loss: 1097.01, accuracy: 91.3%\n",
      "Epoch: 119, loss: 1108.92, accuracy: 90.6%\n",
      "Epoch: 120, loss: 1048.19, accuracy: 92.1%\n",
      "Epoch: 121, loss: 1052.96, accuracy: 91.6%\n",
      "Epoch: 122, loss: 1005.58, accuracy: 92.5%\n",
      "Epoch: 123, loss: 992.58, accuracy: 92.4%\n",
      "Epoch: 124, loss: 971.49, accuracy: 92.9%\n",
      "Epoch: 125, loss: 957.19, accuracy: 92.8%\n",
      "Epoch: 126, loss: 941.67, accuracy: 93.2%\n",
      "Epoch: 127, loss: 931.58, accuracy: 92.9%\n",
      "Epoch: 128, loss: 915.65, accuracy: 93.5%\n",
      "Epoch: 129, loss: 919.65, accuracy: 92.7%\n",
      "Epoch: 130, loss: 891.41, accuracy: 93.8%\n",
      "Epoch: 131, loss: 921.72, accuracy: 92.6%\n",
      "Epoch: 132, loss: 873.18, accuracy: 93.7%\n",
      "Epoch: 133, loss: 878.65, accuracy: 93.3%\n",
      "Epoch: 134, loss: 851.27, accuracy: 93.8%\n",
      "Epoch: 135, loss: 846.90, accuracy: 93.8%\n",
      "Epoch: 136, loss: 829.27, accuracy: 94.0%\n",
      "Epoch: 137, loss: 826.09, accuracy: 94.0%\n",
      "Epoch: 138, loss: 809.98, accuracy: 94.2%\n",
      "Epoch: 139, loss: 808.42, accuracy: 94.2%\n",
      "Epoch: 140, loss: 791.83, accuracy: 94.3%\n",
      "Epoch: 141, loss: 791.09, accuracy: 94.3%\n",
      "Epoch: 142, loss: 774.96, accuracy: 94.5%\n",
      "Epoch: 143, loss: 773.81, accuracy: 94.4%\n",
      "Epoch: 144, loss: 758.61, accuracy: 94.7%\n",
      "Epoch: 145, loss: 756.38, accuracy: 94.6%\n",
      "Epoch: 146, loss: 742.70, accuracy: 94.7%\n",
      "Epoch: 147, loss: 738.78, accuracy: 94.7%\n",
      "Epoch: 148, loss: 727.62, accuracy: 94.8%\n",
      "Epoch: 149, loss: 723.17, accuracy: 94.8%\n",
      "Epoch: 150, loss: 713.57, accuracy: 94.9%\n",
      "Epoch: 151, loss: 709.53, accuracy: 94.9%\n",
      "Epoch: 152, loss: 699.80, accuracy: 94.9%\n",
      "Epoch: 153, loss: 694.17, accuracy: 95.0%\n",
      "Epoch: 154, loss: 686.47, accuracy: 95.1%\n",
      "Epoch: 155, loss: 680.67, accuracy: 95.1%\n",
      "Epoch: 156, loss: 674.28, accuracy: 95.2%\n",
      "Epoch: 157, loss: 668.44, accuracy: 95.2%\n",
      "Epoch: 158, loss: 661.83, accuracy: 95.2%\n",
      "Epoch: 159, loss: 656.22, accuracy: 95.2%\n",
      "Epoch: 160, loss: 649.97, accuracy: 95.3%\n",
      "Epoch: 161, loss: 644.58, accuracy: 95.3%\n",
      "Epoch: 162, loss: 638.56, accuracy: 95.4%\n",
      "Epoch: 163, loss: 633.16, accuracy: 95.4%\n",
      "Epoch: 164, loss: 627.78, accuracy: 95.5%\n",
      "Epoch: 165, loss: 622.71, accuracy: 95.5%\n",
      "Epoch: 166, loss: 617.68, accuracy: 95.6%\n",
      "Epoch: 167, loss: 612.96, accuracy: 95.6%\n",
      "Epoch: 168, loss: 607.91, accuracy: 95.6%\n",
      "Epoch: 169, loss: 603.40, accuracy: 95.6%\n",
      "Epoch: 170, loss: 598.85, accuracy: 95.6%\n",
      "Epoch: 171, loss: 594.32, accuracy: 95.7%\n",
      "Epoch: 172, loss: 588.72, accuracy: 95.7%\n",
      "Epoch: 173, loss: 584.46, accuracy: 95.8%\n",
      "Epoch: 174, loss: 579.90, accuracy: 95.8%\n",
      "Epoch: 175, loss: 576.15, accuracy: 95.8%\n",
      "Epoch: 176, loss: 571.60, accuracy: 95.9%\n",
      "Epoch: 177, loss: 568.43, accuracy: 95.9%\n",
      "Epoch: 178, loss: 563.77, accuracy: 96.0%\n",
      "Epoch: 179, loss: 560.67, accuracy: 96.0%\n",
      "Epoch: 180, loss: 555.38, accuracy: 96.0%\n",
      "Epoch: 181, loss: 553.62, accuracy: 96.0%\n",
      "Epoch: 182, loss: 547.55, accuracy: 96.0%\n",
      "Epoch: 183, loss: 547.63, accuracy: 96.0%\n",
      "Epoch: 184, loss: 540.30, accuracy: 96.1%\n",
      "Epoch: 185, loss: 541.33, accuracy: 96.1%\n",
      "Epoch: 186, loss: 533.84, accuracy: 96.1%\n",
      "Epoch: 187, loss: 532.97, accuracy: 96.1%\n",
      "Epoch: 188, loss: 525.72, accuracy: 96.1%\n",
      "Epoch: 189, loss: 528.35, accuracy: 96.1%\n",
      "Epoch: 190, loss: 520.97, accuracy: 96.1%\n",
      "Epoch: 191, loss: 517.31, accuracy: 96.2%\n",
      "Epoch: 192, loss: 514.36, accuracy: 96.2%\n",
      "Epoch: 193, loss: 512.89, accuracy: 96.2%\n",
      "Epoch: 194, loss: 507.90, accuracy: 96.2%\n",
      "Epoch: 195, loss: 509.52, accuracy: 96.2%\n"
     ]
    },
    {
     "name": "stdout",
     "output_type": "stream",
     "text": [
      "Epoch: 196, loss: 502.17, accuracy: 96.2%\n",
      "Epoch: 197, loss: 505.00, accuracy: 96.2%\n",
      "Epoch: 198, loss: 497.92, accuracy: 96.2%\n",
      "Epoch: 199, loss: 493.93, accuracy: 96.3%\n",
      "Epoch: 200, loss: 494.35, accuracy: 96.2%\n"
     ]
    }
   ],
   "source": [
    "mlp.train_batch(x=x_train, y_true=y_train, epochs=200, batch_size=256)"
   ]
  },
  {
   "cell_type": "code",
   "execution_count": 12,
   "metadata": {},
   "outputs": [
    {
     "data": {
      "image/png": "[encoded data removed]",
      "text/plain": [
       "<Figure size 432x288 with 1 Axes>"
      ]
     },
     "metadata": {
      "needs_background": "light"
     },
     "output_type": "display_data"
    }
   ],
   "source": [
    "fig, ax = plt.subplots()\n",
    "ax.plot(mlp.accuracies)\n",
    "\n",
    "ax.set(xlabel='epochs', ylabel='accuracy [%]', title='Accuracies on Train Set')\n",
    "ax.grid()\n",
    "\n",
    "plt.show()"
   ]
  },
  {
   "cell_type": "code",
   "execution_count": 13,
   "metadata": {},
   "outputs": [
    {
     "data": {
      "image/png": "[encoded data removed]",
      "text/plain": [
       "<Figure size 432x288 with 1 Axes>"
      ]
     },
     "metadata": {
      "needs_background": "light"
     },
     "output_type": "display_data"
    }
   ],
   "source": [
    "fig, ax = plt.subplots()\n",
    "ax.plot(mlp.losses)\n",
    "\n",
    "ax.set(xlabel='epochs', ylabel='loss', title='Loss on Train set')\n",
    "ax.grid()\n",
    "\n",
    "plt.show()"
   ]
  }
 ],
 "metadata": {
  "kernelspec": {
   "display_name": "Python 3",
   "language": "python",
   "name": "python3"
  },
  "language_info": {
   "codemirror_mode": {
    "name": "ipython",
    "version": 3
   },
   "file_extension": ".py",
   "mimetype": "text/x-python",
   "name": "python",
   "nbconvert_exporter": "python",
   "pygments_lexer": "ipython3",
   "version": "3.7.2"
  }
 },
 "nbformat": 4,
 "nbformat_minor": 2
}
